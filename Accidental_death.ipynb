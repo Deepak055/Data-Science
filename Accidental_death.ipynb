{
 "cells": [
  {
   "cell_type": "code",
   "execution_count": 308,
   "metadata": {},
   "outputs": [],
   "source": [
    "import pandas as pd\n",
    "import numpy as np\n",
    "import seaborn as sns\n",
    "import matplotlib.pyplot as plt\n",
    "import warnings\n",
    "warnings.filterwarnings('ignore')"
   ]
  },
  {
   "cell_type": "code",
   "execution_count": 309,
   "metadata": {},
   "outputs": [],
   "source": [
    "df=pd.read_csv(r'C:\\Users\\Deepak Raj\\Desktop\\Data_Science\\Machine Learning\\Data\\accidental-deaths-in-usa-monthly.csv')"
   ]
  },
  {
   "cell_type": "code",
   "execution_count": 310,
   "metadata": {},
   "outputs": [
    {
     "data": {
      "text/html": [
       "<div>\n",
       "<style scoped>\n",
       "    .dataframe tbody tr th:only-of-type {\n",
       "        vertical-align: middle;\n",
       "    }\n",
       "\n",
       "    .dataframe tbody tr th {\n",
       "        vertical-align: top;\n",
       "    }\n",
       "\n",
       "    .dataframe thead th {\n",
       "        text-align: right;\n",
       "    }\n",
       "</style>\n",
       "<table border=\"1\" class=\"dataframe\">\n",
       "  <thead>\n",
       "    <tr style=\"text-align: right;\">\n",
       "      <th></th>\n",
       "      <th>Month</th>\n",
       "      <th>Accidental deaths in USA: monthly, 1973 ? 1978</th>\n",
       "    </tr>\n",
       "  </thead>\n",
       "  <tbody>\n",
       "    <tr>\n",
       "      <th>0</th>\n",
       "      <td>1973-01</td>\n",
       "      <td>9007</td>\n",
       "    </tr>\n",
       "    <tr>\n",
       "      <th>1</th>\n",
       "      <td>1973-02</td>\n",
       "      <td>8106</td>\n",
       "    </tr>\n",
       "    <tr>\n",
       "      <th>2</th>\n",
       "      <td>1973-03</td>\n",
       "      <td>8928</td>\n",
       "    </tr>\n",
       "    <tr>\n",
       "      <th>3</th>\n",
       "      <td>1973-04</td>\n",
       "      <td>9137</td>\n",
       "    </tr>\n",
       "    <tr>\n",
       "      <th>4</th>\n",
       "      <td>1973-05</td>\n",
       "      <td>10017</td>\n",
       "    </tr>\n",
       "    <tr>\n",
       "      <th>...</th>\n",
       "      <td>...</td>\n",
       "      <td>...</td>\n",
       "    </tr>\n",
       "    <tr>\n",
       "      <th>67</th>\n",
       "      <td>1978-08</td>\n",
       "      <td>9827</td>\n",
       "    </tr>\n",
       "    <tr>\n",
       "      <th>68</th>\n",
       "      <td>1978-09</td>\n",
       "      <td>9110</td>\n",
       "    </tr>\n",
       "    <tr>\n",
       "      <th>69</th>\n",
       "      <td>1978-10</td>\n",
       "      <td>9070</td>\n",
       "    </tr>\n",
       "    <tr>\n",
       "      <th>70</th>\n",
       "      <td>1978-11</td>\n",
       "      <td>8633</td>\n",
       "    </tr>\n",
       "    <tr>\n",
       "      <th>71</th>\n",
       "      <td>1978-12</td>\n",
       "      <td>9240</td>\n",
       "    </tr>\n",
       "  </tbody>\n",
       "</table>\n",
       "<p>72 rows × 2 columns</p>\n",
       "</div>"
      ],
      "text/plain": [
       "      Month  Accidental deaths in USA: monthly, 1973 ? 1978\n",
       "0   1973-01                                            9007\n",
       "1   1973-02                                            8106\n",
       "2   1973-03                                            8928\n",
       "3   1973-04                                            9137\n",
       "4   1973-05                                           10017\n",
       "..      ...                                             ...\n",
       "67  1978-08                                            9827\n",
       "68  1978-09                                            9110\n",
       "69  1978-10                                            9070\n",
       "70  1978-11                                            8633\n",
       "71  1978-12                                            9240\n",
       "\n",
       "[72 rows x 2 columns]"
      ]
     },
     "execution_count": 310,
     "metadata": {},
     "output_type": "execute_result"
    }
   ],
   "source": [
    "df"
   ]
  },
  {
   "cell_type": "markdown",
   "metadata": {},
   "source": [
    "## Basic checks"
   ]
  },
  {
   "cell_type": "code",
   "execution_count": 311,
   "metadata": {},
   "outputs": [
    {
     "name": "stdout",
     "output_type": "stream",
     "text": [
      "<class 'pandas.core.frame.DataFrame'>\n",
      "RangeIndex: 72 entries, 0 to 71\n",
      "Data columns (total 2 columns):\n",
      " #   Column                                          Non-Null Count  Dtype \n",
      "---  ------                                          --------------  ----- \n",
      " 0   Month                                           72 non-null     object\n",
      " 1   Accidental deaths in USA: monthly, 1973 ? 1978  72 non-null     int64 \n",
      "dtypes: int64(1), object(1)\n",
      "memory usage: 1.2+ KB\n"
     ]
    }
   ],
   "source": [
    "#basic information about givan data\n",
    "df.info()"
   ]
  },
  {
   "cell_type": "code",
   "execution_count": 312,
   "metadata": {},
   "outputs": [
    {
     "data": {
      "text/html": [
       "<div>\n",
       "<style scoped>\n",
       "    .dataframe tbody tr th:only-of-type {\n",
       "        vertical-align: middle;\n",
       "    }\n",
       "\n",
       "    .dataframe tbody tr th {\n",
       "        vertical-align: top;\n",
       "    }\n",
       "\n",
       "    .dataframe thead th {\n",
       "        text-align: right;\n",
       "    }\n",
       "</style>\n",
       "<table border=\"1\" class=\"dataframe\">\n",
       "  <thead>\n",
       "    <tr style=\"text-align: right;\">\n",
       "      <th></th>\n",
       "      <th>Accidental deaths in USA: monthly, 1973 ? 1978</th>\n",
       "    </tr>\n",
       "  </thead>\n",
       "  <tbody>\n",
       "    <tr>\n",
       "      <th>count</th>\n",
       "      <td>72.000000</td>\n",
       "    </tr>\n",
       "    <tr>\n",
       "      <th>mean</th>\n",
       "      <td>8787.736111</td>\n",
       "    </tr>\n",
       "    <tr>\n",
       "      <th>std</th>\n",
       "      <td>958.338013</td>\n",
       "    </tr>\n",
       "    <tr>\n",
       "      <th>min</th>\n",
       "      <td>6892.000000</td>\n",
       "    </tr>\n",
       "    <tr>\n",
       "      <th>25%</th>\n",
       "      <td>8089.000000</td>\n",
       "    </tr>\n",
       "    <tr>\n",
       "      <th>50%</th>\n",
       "      <td>8728.500000</td>\n",
       "    </tr>\n",
       "    <tr>\n",
       "      <th>75%</th>\n",
       "      <td>9323.250000</td>\n",
       "    </tr>\n",
       "    <tr>\n",
       "      <th>max</th>\n",
       "      <td>11317.000000</td>\n",
       "    </tr>\n",
       "  </tbody>\n",
       "</table>\n",
       "</div>"
      ],
      "text/plain": [
       "       Accidental deaths in USA: monthly, 1973 ? 1978\n",
       "count                                       72.000000\n",
       "mean                                      8787.736111\n",
       "std                                        958.338013\n",
       "min                                       6892.000000\n",
       "25%                                       8089.000000\n",
       "50%                                       8728.500000\n",
       "75%                                       9323.250000\n",
       "max                                      11317.000000"
      ]
     },
     "execution_count": 312,
     "metadata": {},
     "output_type": "execute_result"
    }
   ],
   "source": [
    "#statistical information about data\n",
    "df.describe()"
   ]
  },
  {
   "cell_type": "code",
   "execution_count": 313,
   "metadata": {},
   "outputs": [],
   "source": [
    "#change heading\n",
    "df.rename({'Accidental deaths in USA: monthly, 1973 ? 1978':'Accidental_deaths_in_USA_monthly_b/w_1973_to_1978'},inplace=True,axis=1)"
   ]
  },
  {
   "cell_type": "code",
   "execution_count": 314,
   "metadata": {},
   "outputs": [
    {
     "data": {
      "text/html": [
       "<div>\n",
       "<style scoped>\n",
       "    .dataframe tbody tr th:only-of-type {\n",
       "        vertical-align: middle;\n",
       "    }\n",
       "\n",
       "    .dataframe tbody tr th {\n",
       "        vertical-align: top;\n",
       "    }\n",
       "\n",
       "    .dataframe thead th {\n",
       "        text-align: right;\n",
       "    }\n",
       "</style>\n",
       "<table border=\"1\" class=\"dataframe\">\n",
       "  <thead>\n",
       "    <tr style=\"text-align: right;\">\n",
       "      <th></th>\n",
       "      <th>Month</th>\n",
       "      <th>Accidental_deaths_in_USA_monthly_b/w_1973_to_1978</th>\n",
       "    </tr>\n",
       "  </thead>\n",
       "  <tbody>\n",
       "    <tr>\n",
       "      <th>0</th>\n",
       "      <td>1973-01</td>\n",
       "      <td>9007</td>\n",
       "    </tr>\n",
       "    <tr>\n",
       "      <th>1</th>\n",
       "      <td>1973-02</td>\n",
       "      <td>8106</td>\n",
       "    </tr>\n",
       "    <tr>\n",
       "      <th>2</th>\n",
       "      <td>1973-03</td>\n",
       "      <td>8928</td>\n",
       "    </tr>\n",
       "    <tr>\n",
       "      <th>3</th>\n",
       "      <td>1973-04</td>\n",
       "      <td>9137</td>\n",
       "    </tr>\n",
       "    <tr>\n",
       "      <th>4</th>\n",
       "      <td>1973-05</td>\n",
       "      <td>10017</td>\n",
       "    </tr>\n",
       "    <tr>\n",
       "      <th>...</th>\n",
       "      <td>...</td>\n",
       "      <td>...</td>\n",
       "    </tr>\n",
       "    <tr>\n",
       "      <th>67</th>\n",
       "      <td>1978-08</td>\n",
       "      <td>9827</td>\n",
       "    </tr>\n",
       "    <tr>\n",
       "      <th>68</th>\n",
       "      <td>1978-09</td>\n",
       "      <td>9110</td>\n",
       "    </tr>\n",
       "    <tr>\n",
       "      <th>69</th>\n",
       "      <td>1978-10</td>\n",
       "      <td>9070</td>\n",
       "    </tr>\n",
       "    <tr>\n",
       "      <th>70</th>\n",
       "      <td>1978-11</td>\n",
       "      <td>8633</td>\n",
       "    </tr>\n",
       "    <tr>\n",
       "      <th>71</th>\n",
       "      <td>1978-12</td>\n",
       "      <td>9240</td>\n",
       "    </tr>\n",
       "  </tbody>\n",
       "</table>\n",
       "<p>72 rows × 2 columns</p>\n",
       "</div>"
      ],
      "text/plain": [
       "      Month  Accidental_deaths_in_USA_monthly_b/w_1973_to_1978\n",
       "0   1973-01                                               9007\n",
       "1   1973-02                                               8106\n",
       "2   1973-03                                               8928\n",
       "3   1973-04                                               9137\n",
       "4   1973-05                                              10017\n",
       "..      ...                                                ...\n",
       "67  1978-08                                               9827\n",
       "68  1978-09                                               9110\n",
       "69  1978-10                                               9070\n",
       "70  1978-11                                               8633\n",
       "71  1978-12                                               9240\n",
       "\n",
       "[72 rows x 2 columns]"
      ]
     },
     "execution_count": 314,
     "metadata": {},
     "output_type": "execute_result"
    }
   ],
   "source": [
    "df"
   ]
  },
  {
   "cell_type": "code",
   "execution_count": 315,
   "metadata": {},
   "outputs": [],
   "source": [
    "#change column to index\n",
    "df = df.set_index('Month')"
   ]
  },
  {
   "cell_type": "code",
   "execution_count": 316,
   "metadata": {},
   "outputs": [
    {
     "data": {
      "text/html": [
       "<div>\n",
       "<style scoped>\n",
       "    .dataframe tbody tr th:only-of-type {\n",
       "        vertical-align: middle;\n",
       "    }\n",
       "\n",
       "    .dataframe tbody tr th {\n",
       "        vertical-align: top;\n",
       "    }\n",
       "\n",
       "    .dataframe thead th {\n",
       "        text-align: right;\n",
       "    }\n",
       "</style>\n",
       "<table border=\"1\" class=\"dataframe\">\n",
       "  <thead>\n",
       "    <tr style=\"text-align: right;\">\n",
       "      <th></th>\n",
       "      <th>Accidental_deaths_in_USA_monthly_b/w_1973_to_1978</th>\n",
       "    </tr>\n",
       "    <tr>\n",
       "      <th>Month</th>\n",
       "      <th></th>\n",
       "    </tr>\n",
       "  </thead>\n",
       "  <tbody>\n",
       "    <tr>\n",
       "      <th>1973-01</th>\n",
       "      <td>9007</td>\n",
       "    </tr>\n",
       "    <tr>\n",
       "      <th>1973-02</th>\n",
       "      <td>8106</td>\n",
       "    </tr>\n",
       "    <tr>\n",
       "      <th>1973-03</th>\n",
       "      <td>8928</td>\n",
       "    </tr>\n",
       "    <tr>\n",
       "      <th>1973-04</th>\n",
       "      <td>9137</td>\n",
       "    </tr>\n",
       "    <tr>\n",
       "      <th>1973-05</th>\n",
       "      <td>10017</td>\n",
       "    </tr>\n",
       "    <tr>\n",
       "      <th>...</th>\n",
       "      <td>...</td>\n",
       "    </tr>\n",
       "    <tr>\n",
       "      <th>1978-08</th>\n",
       "      <td>9827</td>\n",
       "    </tr>\n",
       "    <tr>\n",
       "      <th>1978-09</th>\n",
       "      <td>9110</td>\n",
       "    </tr>\n",
       "    <tr>\n",
       "      <th>1978-10</th>\n",
       "      <td>9070</td>\n",
       "    </tr>\n",
       "    <tr>\n",
       "      <th>1978-11</th>\n",
       "      <td>8633</td>\n",
       "    </tr>\n",
       "    <tr>\n",
       "      <th>1978-12</th>\n",
       "      <td>9240</td>\n",
       "    </tr>\n",
       "  </tbody>\n",
       "</table>\n",
       "<p>72 rows × 1 columns</p>\n",
       "</div>"
      ],
      "text/plain": [
       "         Accidental_deaths_in_USA_monthly_b/w_1973_to_1978\n",
       "Month                                                     \n",
       "1973-01                                               9007\n",
       "1973-02                                               8106\n",
       "1973-03                                               8928\n",
       "1973-04                                               9137\n",
       "1973-05                                              10017\n",
       "...                                                    ...\n",
       "1978-08                                               9827\n",
       "1978-09                                               9110\n",
       "1978-10                                               9070\n",
       "1978-11                                               8633\n",
       "1978-12                                               9240\n",
       "\n",
       "[72 rows x 1 columns]"
      ]
     },
     "execution_count": 316,
     "metadata": {},
     "output_type": "execute_result"
    }
   ],
   "source": [
    "df"
   ]
  },
  {
   "cell_type": "markdown",
   "metadata": {},
   "source": [
    "## Exploratory Data Analysis"
   ]
  },
  {
   "cell_type": "code",
   "execution_count": 317,
   "metadata": {},
   "outputs": [
    {
     "data": {
      "image/png": "[encoded data removed]",
      "text/plain": [
       "<Figure size 1080x576 with 1 Axes>"
      ]
     },
     "metadata": {
      "needs_background": "light"
     },
     "output_type": "display_data"
    }
   ],
   "source": [
    "plt.figure(figsize=(15,8))\n",
    "ax=plt.plot(df)\n",
    "plt.tight_layout()"
   ]
  },
  {
   "cell_type": "code",
   "execution_count": 318,
   "metadata": {},
   "outputs": [],
   "source": [
    "#It is seasonality"
   ]
  },
  {
   "cell_type": "markdown",
   "metadata": {},
   "source": [
    "## Stationary"
   ]
  },
  {
   "cell_type": "code",
   "execution_count": 319,
   "metadata": {},
   "outputs": [
    {
     "data": {
      "image/png": "[encoded data removed]",
      "text/plain": [
       "<Figure size 432x288 with 1 Axes>"
      ]
     },
     "execution_count": 319,
     "metadata": {},
     "output_type": "execute_result"
    },
    {
     "data": {
      "image/png": "[encoded data removed]",
      "text/plain": [
       "<Figure size 432x288 with 1 Axes>"
      ]
     },
     "metadata": {
      "needs_background": "light"
     },
     "output_type": "display_data"
    }
   ],
   "source": [
    "from statsmodels.graphics.tsaplots import plot_acf\n",
    "plot_acf(df)"
   ]
  },
  {
   "cell_type": "code",
   "execution_count": 320,
   "metadata": {},
   "outputs": [],
   "source": [
    "#difference\n",
    "df1=df.diff(periods=1)"
   ]
  },
  {
   "cell_type": "code",
   "execution_count": 321,
   "metadata": {},
   "outputs": [
    {
     "data": {
      "text/html": [
       "<div>\n",
       "<style scoped>\n",
       "    .dataframe tbody tr th:only-of-type {\n",
       "        vertical-align: middle;\n",
       "    }\n",
       "\n",
       "    .dataframe tbody tr th {\n",
       "        vertical-align: top;\n",
       "    }\n",
       "\n",
       "    .dataframe thead th {\n",
       "        text-align: right;\n",
       "    }\n",
       "</style>\n",
       "<table border=\"1\" class=\"dataframe\">\n",
       "  <thead>\n",
       "    <tr style=\"text-align: right;\">\n",
       "      <th></th>\n",
       "      <th>Accidental_deaths_in_USA_monthly_b/w_1973_to_1978</th>\n",
       "    </tr>\n",
       "    <tr>\n",
       "      <th>Month</th>\n",
       "      <th></th>\n",
       "    </tr>\n",
       "  </thead>\n",
       "  <tbody>\n",
       "    <tr>\n",
       "      <th>1973-01</th>\n",
       "      <td>NaN</td>\n",
       "    </tr>\n",
       "    <tr>\n",
       "      <th>1973-02</th>\n",
       "      <td>-901.0</td>\n",
       "    </tr>\n",
       "    <tr>\n",
       "      <th>1973-03</th>\n",
       "      <td>822.0</td>\n",
       "    </tr>\n",
       "    <tr>\n",
       "      <th>1973-04</th>\n",
       "      <td>209.0</td>\n",
       "    </tr>\n",
       "    <tr>\n",
       "      <th>1973-05</th>\n",
       "      <td>880.0</td>\n",
       "    </tr>\n",
       "    <tr>\n",
       "      <th>...</th>\n",
       "      <td>...</td>\n",
       "    </tr>\n",
       "    <tr>\n",
       "      <th>1978-08</th>\n",
       "      <td>-657.0</td>\n",
       "    </tr>\n",
       "    <tr>\n",
       "      <th>1978-09</th>\n",
       "      <td>-717.0</td>\n",
       "    </tr>\n",
       "    <tr>\n",
       "      <th>1978-10</th>\n",
       "      <td>-40.0</td>\n",
       "    </tr>\n",
       "    <tr>\n",
       "      <th>1978-11</th>\n",
       "      <td>-437.0</td>\n",
       "    </tr>\n",
       "    <tr>\n",
       "      <th>1978-12</th>\n",
       "      <td>607.0</td>\n",
       "    </tr>\n",
       "  </tbody>\n",
       "</table>\n",
       "<p>72 rows × 1 columns</p>\n",
       "</div>"
      ],
      "text/plain": [
       "         Accidental_deaths_in_USA_monthly_b/w_1973_to_1978\n",
       "Month                                                     \n",
       "1973-01                                                NaN\n",
       "1973-02                                             -901.0\n",
       "1973-03                                              822.0\n",
       "1973-04                                              209.0\n",
       "1973-05                                              880.0\n",
       "...                                                    ...\n",
       "1978-08                                             -657.0\n",
       "1978-09                                             -717.0\n",
       "1978-10                                              -40.0\n",
       "1978-11                                             -437.0\n",
       "1978-12                                              607.0\n",
       "\n",
       "[72 rows x 1 columns]"
      ]
     },
     "execution_count": 321,
     "metadata": {},
     "output_type": "execute_result"
    }
   ],
   "source": [
    "df1"
   ]
  },
  {
   "cell_type": "code",
   "execution_count": 322,
   "metadata": {},
   "outputs": [],
   "source": [
    "df1=df1.iloc[1:]"
   ]
  },
  {
   "cell_type": "code",
   "execution_count": 323,
   "metadata": {},
   "outputs": [
    {
     "data": {
      "text/html": [
       "<div>\n",
       "<style scoped>\n",
       "    .dataframe tbody tr th:only-of-type {\n",
       "        vertical-align: middle;\n",
       "    }\n",
       "\n",
       "    .dataframe tbody tr th {\n",
       "        vertical-align: top;\n",
       "    }\n",
       "\n",
       "    .dataframe thead th {\n",
       "        text-align: right;\n",
       "    }\n",
       "</style>\n",
       "<table border=\"1\" class=\"dataframe\">\n",
       "  <thead>\n",
       "    <tr style=\"text-align: right;\">\n",
       "      <th></th>\n",
       "      <th>Accidental_deaths_in_USA_monthly_b/w_1973_to_1978</th>\n",
       "    </tr>\n",
       "    <tr>\n",
       "      <th>Month</th>\n",
       "      <th></th>\n",
       "    </tr>\n",
       "  </thead>\n",
       "  <tbody>\n",
       "    <tr>\n",
       "      <th>1973-02</th>\n",
       "      <td>-901.0</td>\n",
       "    </tr>\n",
       "    <tr>\n",
       "      <th>1973-03</th>\n",
       "      <td>822.0</td>\n",
       "    </tr>\n",
       "    <tr>\n",
       "      <th>1973-04</th>\n",
       "      <td>209.0</td>\n",
       "    </tr>\n",
       "    <tr>\n",
       "      <th>1973-05</th>\n",
       "      <td>880.0</td>\n",
       "    </tr>\n",
       "    <tr>\n",
       "      <th>1973-06</th>\n",
       "      <td>809.0</td>\n",
       "    </tr>\n",
       "    <tr>\n",
       "      <th>...</th>\n",
       "      <td>...</td>\n",
       "    </tr>\n",
       "    <tr>\n",
       "      <th>1978-08</th>\n",
       "      <td>-657.0</td>\n",
       "    </tr>\n",
       "    <tr>\n",
       "      <th>1978-09</th>\n",
       "      <td>-717.0</td>\n",
       "    </tr>\n",
       "    <tr>\n",
       "      <th>1978-10</th>\n",
       "      <td>-40.0</td>\n",
       "    </tr>\n",
       "    <tr>\n",
       "      <th>1978-11</th>\n",
       "      <td>-437.0</td>\n",
       "    </tr>\n",
       "    <tr>\n",
       "      <th>1978-12</th>\n",
       "      <td>607.0</td>\n",
       "    </tr>\n",
       "  </tbody>\n",
       "</table>\n",
       "<p>71 rows × 1 columns</p>\n",
       "</div>"
      ],
      "text/plain": [
       "         Accidental_deaths_in_USA_monthly_b/w_1973_to_1978\n",
       "Month                                                     \n",
       "1973-02                                             -901.0\n",
       "1973-03                                              822.0\n",
       "1973-04                                              209.0\n",
       "1973-05                                              880.0\n",
       "1973-06                                              809.0\n",
       "...                                                    ...\n",
       "1978-08                                             -657.0\n",
       "1978-09                                             -717.0\n",
       "1978-10                                              -40.0\n",
       "1978-11                                             -437.0\n",
       "1978-12                                              607.0\n",
       "\n",
       "[71 rows x 1 columns]"
      ]
     },
     "execution_count": 323,
     "metadata": {},
     "output_type": "execute_result"
    }
   ],
   "source": [
    "df1"
   ]
  },
  {
   "cell_type": "code",
   "execution_count": 324,
   "metadata": {},
   "outputs": [
    {
     "data": {
      "image/png": "[encoded data removed]",
      "text/plain": [
       "<Figure size 432x288 with 1 Axes>"
      ]
     },
     "execution_count": 324,
     "metadata": {},
     "output_type": "execute_result"
    },
    {
     "data": {
      "image/png": "[encoded data removed]",
      "text/plain": [
       "<Figure size 432x288 with 1 Axes>"
      ]
     },
     "metadata": {
      "needs_background": "light"
     },
     "output_type": "display_data"
    }
   ],
   "source": [
    "plot_acf(df1)"
   ]
  },
  {
   "cell_type": "code",
   "execution_count": 325,
   "metadata": {},
   "outputs": [
    {
     "data": {
      "text/plain": [
       "[<matplotlib.lines.Line2D at 0x266a1285bb0>]"
      ]
     },
     "execution_count": 325,
     "metadata": {},
     "output_type": "execute_result"
    },
    {
     "data": {
      "image/png": "[encoded data removed]",
      "text/plain": [
       "<Figure size 432x288 with 1 Axes>"
      ]
     },
     "metadata": {
      "needs_background": "light"
     },
     "output_type": "display_data"
    }
   ],
   "source": [
    "plt.plot(df1)"
   ]
  },
  {
   "cell_type": "code",
   "execution_count": 326,
   "metadata": {},
   "outputs": [
    {
     "data": {
      "text/plain": [
       "(71, 1)"
      ]
     },
     "execution_count": 326,
     "metadata": {},
     "output_type": "execute_result"
    }
   ],
   "source": [
    "df1.shape"
   ]
  },
  {
   "cell_type": "code",
   "execution_count": 327,
   "metadata": {},
   "outputs": [],
   "source": [
    "#train and test\n",
    "train=df1[:50]\n",
    "test=df1[50:]"
   ]
  },
  {
   "cell_type": "code",
   "execution_count": 328,
   "metadata": {},
   "outputs": [],
   "source": [
    "#Auto Relation\n",
    "from statsmodels.tsa.ar_model import AR\n",
    "auto_r=AR(train)"
   ]
  },
  {
   "cell_type": "code",
   "execution_count": 329,
   "metadata": {},
   "outputs": [],
   "source": [
    "ar_model_fit=auto_r.fit()"
   ]
  },
  {
   "cell_type": "code",
   "execution_count": 330,
   "metadata": {},
   "outputs": [],
   "source": [
    "predict_ar=ar_model_fit.predict(start=50,end=71)"
   ]
  },
  {
   "cell_type": "code",
   "execution_count": 331,
   "metadata": {},
   "outputs": [
    {
     "data": {
      "image/png": "[encoded data removed]",
      "text/plain": [
       "<Figure size 432x288 with 1 Axes>"
      ]
     },
     "metadata": {
      "needs_background": "light"
     },
     "output_type": "display_data"
    }
   ],
   "source": [
    "#\n",
    "plt.plot(test)\n",
    "plt.show()"
   ]
  },
  {
   "cell_type": "code",
   "execution_count": 332,
   "metadata": {},
   "outputs": [
    {
     "data": {
      "text/plain": [
       "[<matplotlib.lines.Line2D at 0x266a136b460>]"
      ]
     },
     "execution_count": 332,
     "metadata": {},
     "output_type": "execute_result"
    },
    {
     "data": {
      "image/png": "[encoded data removed]",
      "text/plain": [
       "<Figure size 432x288 with 1 Axes>"
      ]
     },
     "metadata": {
      "needs_background": "light"
     },
     "output_type": "display_data"
    }
   ],
   "source": [
    "plt.plot(predict_ar,color='green')"
   ]
  },
  {
   "cell_type": "markdown",
   "metadata": {},
   "source": [
    "## ARIMA"
   ]
  },
  {
   "cell_type": "code",
   "execution_count": 333,
   "metadata": {},
   "outputs": [],
   "source": [
    "from statsmodels.tsa.arima_model import ARIMA\n",
    "model_arima=ARIMA(train,order=(1,1,0))\n",
    "arima_fit=model_arima.fit()"
   ]
  },
  {
   "cell_type": "code",
   "execution_count": 334,
   "metadata": {},
   "outputs": [
    {
     "data": {
      "text/plain": [
       "806.6779667894251"
      ]
     },
     "execution_count": 334,
     "metadata": {},
     "output_type": "execute_result"
    }
   ],
   "source": [
    "arima_fit.aic"
   ]
  },
  {
   "cell_type": "code",
   "execution_count": 335,
   "metadata": {},
   "outputs": [],
   "source": [
    "predict_arima=arima_fit.forecast(steps=25)[0]"
   ]
  },
  {
   "cell_type": "code",
   "execution_count": 336,
   "metadata": {},
   "outputs": [
    {
     "data": {
      "text/plain": [
       "array([-53.81798677, 393.3986485 , 175.96389665, 306.36333667,\n",
       "       254.72956743, 298.35983504, 292.13526159, 312.00138574,\n",
       "       318.21337948, 331.5710341 , 341.18912656, 352.76425636,\n",
       "       363.31520338, 374.40213934, 385.20857445, 396.16180499,\n",
       "       407.03821259, 417.95482419, 428.85039571, 439.7569782 ,\n",
       "       450.65779828, 461.56163402, 472.46389157, 483.36697504,\n",
       "       494.26962627])"
      ]
     },
     "execution_count": 336,
     "metadata": {},
     "output_type": "execute_result"
    }
   ],
   "source": [
    "predict_arima"
   ]
  },
  {
   "cell_type": "code",
   "execution_count": 337,
   "metadata": {},
   "outputs": [
    {
     "data": {
      "text/plain": [
       "[<matplotlib.lines.Line2D at 0x266a26e1070>]"
      ]
     },
     "execution_count": 337,
     "metadata": {},
     "output_type": "execute_result"
    },
    {
     "data": {
      "image/png": "[encoded data removed]",
      "text/plain": [
       "<Figure size 432x288 with 1 Axes>"
      ]
     },
     "metadata": {
      "needs_background": "light"
     },
     "output_type": "display_data"
    }
   ],
   "source": [
    "plt.plot(predict_arima)"
   ]
  },
  {
   "cell_type": "code",
   "execution_count": 338,
   "metadata": {},
   "outputs": [
    {
     "data": {
      "text/plain": [
       "[(0, 0, 0),\n",
       " (0, 0, 1),\n",
       " (0, 0, 2),\n",
       " (0, 0, 3),\n",
       " (0, 0, 4),\n",
       " (0, 1, 0),\n",
       " (0, 1, 1),\n",
       " (0, 1, 2),\n",
       " (0, 1, 3),\n",
       " (0, 1, 4),\n",
       " (0, 2, 0),\n",
       " (0, 2, 1),\n",
       " (0, 2, 2),\n",
       " (0, 2, 3),\n",
       " (0, 2, 4),\n",
       " (0, 3, 0),\n",
       " (0, 3, 1),\n",
       " (0, 3, 2),\n",
       " (0, 3, 3),\n",
       " (0, 3, 4),\n",
       " (0, 4, 0),\n",
       " (0, 4, 1),\n",
       " (0, 4, 2),\n",
       " (0, 4, 3),\n",
       " (0, 4, 4),\n",
       " (1, 0, 0),\n",
       " (1, 0, 1),\n",
       " (1, 0, 2),\n",
       " (1, 0, 3),\n",
       " (1, 0, 4),\n",
       " (1, 1, 0),\n",
       " (1, 1, 1),\n",
       " (1, 1, 2),\n",
       " (1, 1, 3),\n",
       " (1, 1, 4),\n",
       " (1, 2, 0),\n",
       " (1, 2, 1),\n",
       " (1, 2, 2),\n",
       " (1, 2, 3),\n",
       " (1, 2, 4),\n",
       " (1, 3, 0),\n",
       " (1, 3, 1),\n",
       " (1, 3, 2),\n",
       " (1, 3, 3),\n",
       " (1, 3, 4),\n",
       " (1, 4, 0),\n",
       " (1, 4, 1),\n",
       " (1, 4, 2),\n",
       " (1, 4, 3),\n",
       " (1, 4, 4),\n",
       " (2, 0, 0),\n",
       " (2, 0, 1),\n",
       " (2, 0, 2),\n",
       " (2, 0, 3),\n",
       " (2, 0, 4),\n",
       " (2, 1, 0),\n",
       " (2, 1, 1),\n",
       " (2, 1, 2),\n",
       " (2, 1, 3),\n",
       " (2, 1, 4),\n",
       " (2, 2, 0),\n",
       " (2, 2, 1),\n",
       " (2, 2, 2),\n",
       " (2, 2, 3),\n",
       " (2, 2, 4),\n",
       " (2, 3, 0),\n",
       " (2, 3, 1),\n",
       " (2, 3, 2),\n",
       " (2, 3, 3),\n",
       " (2, 3, 4),\n",
       " (2, 4, 0),\n",
       " (2, 4, 1),\n",
       " (2, 4, 2),\n",
       " (2, 4, 3),\n",
       " (2, 4, 4),\n",
       " (3, 0, 0),\n",
       " (3, 0, 1),\n",
       " (3, 0, 2),\n",
       " (3, 0, 3),\n",
       " (3, 0, 4),\n",
       " (3, 1, 0),\n",
       " (3, 1, 1),\n",
       " (3, 1, 2),\n",
       " (3, 1, 3),\n",
       " (3, 1, 4),\n",
       " (3, 2, 0),\n",
       " (3, 2, 1),\n",
       " (3, 2, 2),\n",
       " (3, 2, 3),\n",
       " (3, 2, 4),\n",
       " (3, 3, 0),\n",
       " (3, 3, 1),\n",
       " (3, 3, 2),\n",
       " (3, 3, 3),\n",
       " (3, 3, 4),\n",
       " (3, 4, 0),\n",
       " (3, 4, 1),\n",
       " (3, 4, 2),\n",
       " (3, 4, 3),\n",
       " (3, 4, 4),\n",
       " (4, 0, 0),\n",
       " (4, 0, 1),\n",
       " (4, 0, 2),\n",
       " (4, 0, 3),\n",
       " (4, 0, 4),\n",
       " (4, 1, 0),\n",
       " (4, 1, 1),\n",
       " (4, 1, 2),\n",
       " (4, 1, 3),\n",
       " (4, 1, 4),\n",
       " (4, 2, 0),\n",
       " (4, 2, 1),\n",
       " (4, 2, 2),\n",
       " (4, 2, 3),\n",
       " (4, 2, 4),\n",
       " (4, 3, 0),\n",
       " (4, 3, 1),\n",
       " (4, 3, 2),\n",
       " (4, 3, 3),\n",
       " (4, 3, 4),\n",
       " (4, 4, 0),\n",
       " (4, 4, 1),\n",
       " (4, 4, 2),\n",
       " (4, 4, 3),\n",
       " (4, 4, 4)]"
      ]
     },
     "execution_count": 338,
     "metadata": {},
     "output_type": "execute_result"
    }
   ],
   "source": [
    "#iteration\n",
    "import itertools\n",
    "p=q=d=range(0,5)\n",
    "pqd=list(itertools.product(p,q,d))\n",
    "pqd"
   ]
  },
  {
   "cell_type": "code",
   "execution_count": 339,
   "metadata": {},
   "outputs": [
    {
     "name": "stdout",
     "output_type": "stream",
     "text": [
      "(0, 0, 0) 802.2783670933062\n",
      "(0, 0, 1) 804.2551947195211\n",
      "(0, 0, 2) 805.8928994480989\n",
      "(0, 0, 3) 799.2665193399341\n",
      "(0, 0, 4) 797.2421582811367\n",
      "(0, 1, 0) 818.6874175863545\n",
      "(0, 1, 1) 793.139677850569\n",
      "(0, 1, 2) 795.0759331525026\n",
      "(0, 1, 3) 796.4844065981264\n",
      "(0, 1, 4) 793.8506081418335\n",
      "(0, 2, 0) 853.0786864859156\n",
      "(0, 2, 1) 808.9422734616143\n",
      "(0, 2, 2) 788.7434792914886\n",
      "(0, 2, 3) 790.4969510634096\n",
      "(0, 2, 4) 791.4351049122116\n",
      "(1, 0, 0) 804.2524762423454\n",
      "(1, 0, 1) 803.4090005278717\n",
      "(1, 1, 0) 806.6779667894251\n",
      "(1, 1, 1) 795.0656549787353\n",
      "(1, 1, 2) 794.2091069231799\n",
      "(1, 2, 0) 824.7318663349213\n",
      "(1, 2, 1) 798.0455481632098\n",
      "(2, 0, 0) 806.0923659465243\n",
      "(2, 0, 1) 799.7253127128483\n",
      "(2, 1, 0) 806.1984482698954\n",
      "(2, 1, 1) 796.7863200502932\n",
      "(2, 2, 0) 813.466148179006\n",
      "(2, 2, 1) 798.0145700930801\n",
      "(2, 2, 2) 796.0850633916031\n",
      "(2, 2, 3) 791.6198985425353\n",
      "(3, 0, 0) 807.5752720858695\n",
      "(3, 0, 1) 796.6645844908926\n",
      "(3, 1, 0) 808.0009643075471\n",
      "(3, 1, 1) 798.4530140149811\n",
      "(3, 1, 2) 796.6768940825295\n",
      "(3, 2, 0) 814.6065548248523\n",
      "(3, 2, 1) 799.9281750212944\n",
      "(3, 2, 2) 797.8675212024675\n",
      "(3, 2, 3) 1149.1355442400545\n",
      "(4, 0, 0) 805.7798822026853\n",
      "(4, 0, 1) 795.6687615967344\n",
      "(4, 1, 0) 802.7240188183384\n",
      "(4, 1, 1) 800.4419658000388\n",
      "(4, 1, 2) 793.0687199143762\n",
      "(4, 1, 4) 781.9041838408228\n",
      "(4, 2, 0) 801.6126157953693\n",
      "(4, 2, 1) 795.434813550945\n",
      "(4, 2, 2) 792.8516008757863\n",
      "(4, 2, 3) 789.501819012457\n",
      "(4, 2, 4) 793.8315289590847\n"
     ]
    }
   ],
   "source": [
    "for i in pqd:\n",
    "    try:\n",
    "        \n",
    "        model_arima=ARIMA(train,order=i)\n",
    "        model_arima_fit=model_arima.fit()\n",
    "        print(i,model_arima_fit.aic)\n",
    "    except:\n",
    "        continue\n",
    "        \n"
   ]
  },
  {
   "cell_type": "code",
   "execution_count": 340,
   "metadata": {},
   "outputs": [],
   "source": [
    "model_arima_=ARIMA(train,order=(4, 2, 3)) #minimum value\n",
    "arima_fit_=model_arima_.fit()"
   ]
  },
  {
   "cell_type": "code",
   "execution_count": 341,
   "metadata": {},
   "outputs": [
    {
     "data": {
      "text/plain": [
       "789.501819012457"
      ]
     },
     "execution_count": 341,
     "metadata": {},
     "output_type": "execute_result"
    }
   ],
   "source": [
    "arima_fit_.aic #aic"
   ]
  },
  {
   "cell_type": "code",
   "execution_count": 342,
   "metadata": {},
   "outputs": [],
   "source": [
    "predict_arima_forecast=arima_fit_.forecast(steps=30)[0] #steps"
   ]
  },
  {
   "cell_type": "code",
   "execution_count": 343,
   "metadata": {},
   "outputs": [
    {
     "data": {
      "text/plain": [
       "array([-100.30601837,  381.66651026, -324.50540352,  440.60532014,\n",
       "         53.69173037,  -80.93190194,  490.18703423, -332.50580375,\n",
       "        554.87006255, -178.52390123,  223.59618866,  265.3715254 ,\n",
       "       -203.58384187,  579.80162725, -314.284676  ,  471.35234288,\n",
       "         -3.25563975,   45.68807421,  438.98150703, -293.65252787,\n",
       "        597.30261541, -224.78739608,  324.16050282,  188.50361002,\n",
       "       -121.49738866,  557.28977356, -318.62018651,  534.34277674,\n",
       "        -81.15387036,  141.55750981])"
      ]
     },
     "execution_count": 343,
     "metadata": {},
     "output_type": "execute_result"
    }
   ],
   "source": [
    "predict_arima_forecast #forecast"
   ]
  },
  {
   "cell_type": "code",
   "execution_count": 344,
   "metadata": {},
   "outputs": [
    {
     "data": {
      "text/plain": [
       "[<matplotlib.lines.Line2D at 0x266a274f7c0>]"
      ]
     },
     "execution_count": 344,
     "metadata": {},
     "output_type": "execute_result"
    },
    {
     "data": {
      "image/png": "[encoded data removed]",
      "text/plain": [
       "<Figure size 432x288 with 1 Axes>"
      ]
     },
     "metadata": {
      "needs_background": "light"
     },
     "output_type": "display_data"
    }
   ],
   "source": [
    "plt.plot(predict_arima_forecast) #plot"
   ]
  },
  {
   "cell_type": "code",
   "execution_count": null,
   "metadata": {},
   "outputs": [],
   "source": []
  }
 ],
 "metadata": {
  "kernelspec": {
   "display_name": "Python 3",
   "language": "python",
   "name": "python3"
  },
  "language_info": {
   "codemirror_mode": {
    "name": "ipython",
    "version": 3
   },
   "file_extension": ".py",
   "mimetype": "text/x-python",
   "name": "python",
   "nbconvert_exporter": "python",
   "pygments_lexer": "ipython3",
   "version": "3.8.5"
  }
 },
 "nbformat": 4,
 "nbformat_minor": 4
}
