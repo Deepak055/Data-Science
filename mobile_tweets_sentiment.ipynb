{
 "cells": [
  {
   "cell_type": "code",
   "execution_count": 470,
   "metadata": {
    "id": "FlYWGPDB6H9Z"
   },
   "outputs": [],
   "source": [
    "import pandas as pd\n"
   ]
  },
  {
   "cell_type": "code",
   "execution_count": 471,
   "metadata": {
    "colab": {
     "base_uri": "https://localhost:8080/",
     "height": 424
    },
    "id": "oZZQT6b96UZo",
    "outputId": "0cc2b475-abdc-4ca1-8c18-4d438ea355eb"
   },
   "outputs": [
    {
     "data": {
      "text/html": [
       "<div>\n",
       "<style scoped>\n",
       "    .dataframe tbody tr th:only-of-type {\n",
       "        vertical-align: middle;\n",
       "    }\n",
       "\n",
       "    .dataframe tbody tr th {\n",
       "        vertical-align: top;\n",
       "    }\n",
       "\n",
       "    .dataframe thead th {\n",
       "        text-align: right;\n",
       "    }\n",
       "</style>\n",
       "<table border=\"1\" class=\"dataframe\">\n",
       "  <thead>\n",
       "    <tr style=\"text-align: right;\">\n",
       "      <th></th>\n",
       "      <th>tweet_text</th>\n",
       "      <th>emotion_in_tweet_is_directed_at</th>\n",
       "      <th>is_there_an_emotion_directed_at_a_brand_or_product</th>\n",
       "    </tr>\n",
       "  </thead>\n",
       "  <tbody>\n",
       "    <tr>\n",
       "      <th>0</th>\n",
       "      <td>.@wesley83 I have a 3G iPhone. After 3 hrs twe...</td>\n",
       "      <td>iPhone</td>\n",
       "      <td>Negative emotion</td>\n",
       "    </tr>\n",
       "    <tr>\n",
       "      <th>1</th>\n",
       "      <td>@jessedee Know about @fludapp ? Awesome iPad/i...</td>\n",
       "      <td>iPad or iPhone App</td>\n",
       "      <td>Positive emotion</td>\n",
       "    </tr>\n",
       "    <tr>\n",
       "      <th>2</th>\n",
       "      <td>@swonderlin Can not wait for #iPad 2 also. The...</td>\n",
       "      <td>iPad</td>\n",
       "      <td>Positive emotion</td>\n",
       "    </tr>\n",
       "    <tr>\n",
       "      <th>3</th>\n",
       "      <td>@sxsw I hope this year's festival isn't as cra...</td>\n",
       "      <td>iPad or iPhone App</td>\n",
       "      <td>Negative emotion</td>\n",
       "    </tr>\n",
       "    <tr>\n",
       "      <th>4</th>\n",
       "      <td>@sxtxstate great stuff on Fri #SXSW: Marissa M...</td>\n",
       "      <td>Google</td>\n",
       "      <td>Positive emotion</td>\n",
       "    </tr>\n",
       "    <tr>\n",
       "      <th>...</th>\n",
       "      <td>...</td>\n",
       "      <td>...</td>\n",
       "      <td>...</td>\n",
       "    </tr>\n",
       "    <tr>\n",
       "      <th>993</th>\n",
       "      <td>#sxsw two parties down (Awesome Journalism, NP...</td>\n",
       "      <td>NaN</td>\n",
       "      <td>No emotion toward brand or product</td>\n",
       "    </tr>\n",
       "    <tr>\n",
       "      <th>994</th>\n",
       "      <td>At google party. Best ever! Get your butt over...</td>\n",
       "      <td>Google</td>\n",
       "      <td>Positive emotion</td>\n",
       "    </tr>\n",
       "    <tr>\n",
       "      <th>995</th>\n",
       "      <td>Hey #sxsw peeps! Our new IPhone app ON #Voicef...</td>\n",
       "      <td>iPad or iPhone App</td>\n",
       "      <td>Positive emotion</td>\n",
       "    </tr>\n",
       "    <tr>\n",
       "      <th>996</th>\n",
       "      <td>Watch how people interact with information... ...</td>\n",
       "      <td>NaN</td>\n",
       "      <td>No emotion toward brand or product</td>\n",
       "    </tr>\n",
       "    <tr>\n",
       "      <th>997</th>\n",
       "      <td>Hey #sxsw people! Survival tip no 2. Great veg...</td>\n",
       "      <td>NaN</td>\n",
       "      <td>No emotion toward brand or product</td>\n",
       "    </tr>\n",
       "  </tbody>\n",
       "</table>\n",
       "<p>998 rows × 3 columns</p>\n",
       "</div>"
      ],
      "text/plain": [
       "                                            tweet_text  \\\n",
       "0    .@wesley83 I have a 3G iPhone. After 3 hrs twe...   \n",
       "1    @jessedee Know about @fludapp ? Awesome iPad/i...   \n",
       "2    @swonderlin Can not wait for #iPad 2 also. The...   \n",
       "3    @sxsw I hope this year's festival isn't as cra...   \n",
       "4    @sxtxstate great stuff on Fri #SXSW: Marissa M...   \n",
       "..                                                 ...   \n",
       "993  #sxsw two parties down (Awesome Journalism, NP...   \n",
       "994  At google party. Best ever! Get your butt over...   \n",
       "995  Hey #sxsw peeps! Our new IPhone app ON #Voicef...   \n",
       "996  Watch how people interact with information... ...   \n",
       "997  Hey #sxsw people! Survival tip no 2. Great veg...   \n",
       "\n",
       "    emotion_in_tweet_is_directed_at  \\\n",
       "0                            iPhone   \n",
       "1                iPad or iPhone App   \n",
       "2                              iPad   \n",
       "3                iPad or iPhone App   \n",
       "4                            Google   \n",
       "..                              ...   \n",
       "993                             NaN   \n",
       "994                          Google   \n",
       "995              iPad or iPhone App   \n",
       "996                             NaN   \n",
       "997                             NaN   \n",
       "\n",
       "    is_there_an_emotion_directed_at_a_brand_or_product  \n",
       "0                                     Negative emotion  \n",
       "1                                     Positive emotion  \n",
       "2                                     Positive emotion  \n",
       "3                                     Negative emotion  \n",
       "4                                     Positive emotion  \n",
       "..                                                 ...  \n",
       "993                 No emotion toward brand or product  \n",
       "994                                   Positive emotion  \n",
       "995                                   Positive emotion  \n",
       "996                 No emotion toward brand or product  \n",
       "997                 No emotion toward brand or product  \n",
       "\n",
       "[998 rows x 3 columns]"
      ]
     },
     "execution_count": 471,
     "metadata": {},
     "output_type": "execute_result"
    }
   ],
   "source": [
    "df=pd.read_csv(r'C:\\Users\\Deepak Raj\\Desktop\\Data_Science\\Machine Learning\\Data\\tweets1.csv')\n",
    "df"
   ]
  },
  {
   "cell_type": "code",
   "execution_count": 472,
   "metadata": {
    "id": "gihhuOmTHgbs"
   },
   "outputs": [],
   "source": [
    "##Basic checks"
   ]
  },
  {
   "cell_type": "code",
   "execution_count": 473,
   "metadata": {
    "colab": {
     "base_uri": "https://localhost:8080/"
    },
    "id": "yVrWOgznH8_5",
    "outputId": "25b92d05-0a89-4047-a021-2bfb17d76d94"
   },
   "outputs": [
    {
     "name": "stdout",
     "output_type": "stream",
     "text": [
      "<class 'pandas.core.frame.DataFrame'>\n",
      "RangeIndex: 998 entries, 0 to 997\n",
      "Data columns (total 3 columns):\n",
      " #   Column                                              Non-Null Count  Dtype \n",
      "---  ------                                              --------------  ----- \n",
      " 0   tweet_text                                          997 non-null    object\n",
      " 1   emotion_in_tweet_is_directed_at                     393 non-null    object\n",
      " 2   is_there_an_emotion_directed_at_a_brand_or_product  998 non-null    object\n",
      "dtypes: object(3)\n",
      "memory usage: 23.5+ KB\n"
     ]
    }
   ],
   "source": [
    "#information about dataset\n",
    "df.info()"
   ]
  },
  {
   "cell_type": "code",
   "execution_count": 474,
   "metadata": {
    "colab": {
     "base_uri": "https://localhost:8080/",
     "height": 175
    },
    "id": "GdHzd_iPIA1q",
    "outputId": "cc5be877-02a5-4bc5-87e3-84b7d2c1e605"
   },
   "outputs": [
    {
     "data": {
      "text/html": [
       "<div>\n",
       "<style scoped>\n",
       "    .dataframe tbody tr th:only-of-type {\n",
       "        vertical-align: middle;\n",
       "    }\n",
       "\n",
       "    .dataframe tbody tr th {\n",
       "        vertical-align: top;\n",
       "    }\n",
       "\n",
       "    .dataframe thead th {\n",
       "        text-align: right;\n",
       "    }\n",
       "</style>\n",
       "<table border=\"1\" class=\"dataframe\">\n",
       "  <thead>\n",
       "    <tr style=\"text-align: right;\">\n",
       "      <th></th>\n",
       "      <th>tweet_text</th>\n",
       "      <th>emotion_in_tweet_is_directed_at</th>\n",
       "      <th>is_there_an_emotion_directed_at_a_brand_or_product</th>\n",
       "    </tr>\n",
       "  </thead>\n",
       "  <tbody>\n",
       "    <tr>\n",
       "      <th>count</th>\n",
       "      <td>997</td>\n",
       "      <td>393</td>\n",
       "      <td>998</td>\n",
       "    </tr>\n",
       "    <tr>\n",
       "      <th>unique</th>\n",
       "      <td>995</td>\n",
       "      <td>9</td>\n",
       "      <td>4</td>\n",
       "    </tr>\n",
       "    <tr>\n",
       "      <th>top</th>\n",
       "      <td>Google to Launch Major New Social Network Call...</td>\n",
       "      <td>iPad</td>\n",
       "      <td>No emotion toward brand or product</td>\n",
       "    </tr>\n",
       "    <tr>\n",
       "      <th>freq</th>\n",
       "      <td>2</td>\n",
       "      <td>101</td>\n",
       "      <td>569</td>\n",
       "    </tr>\n",
       "  </tbody>\n",
       "</table>\n",
       "</div>"
      ],
      "text/plain": [
       "                                               tweet_text  \\\n",
       "count                                                 997   \n",
       "unique                                                995   \n",
       "top     Google to Launch Major New Social Network Call...   \n",
       "freq                                                    2   \n",
       "\n",
       "       emotion_in_tweet_is_directed_at  \\\n",
       "count                              393   \n",
       "unique                               9   \n",
       "top                               iPad   \n",
       "freq                               101   \n",
       "\n",
       "       is_there_an_emotion_directed_at_a_brand_or_product  \n",
       "count                                                 998  \n",
       "unique                                                  4  \n",
       "top                    No emotion toward brand or product  \n",
       "freq                                                  569  "
      ]
     },
     "execution_count": 474,
     "metadata": {},
     "output_type": "execute_result"
    }
   ],
   "source": [
    "#statistical information \n",
    "df.describe(include='O')"
   ]
  },
  {
   "cell_type": "markdown",
   "metadata": {},
   "source": [
    "## Data Preprocessing"
   ]
  },
  {
   "cell_type": "code",
   "execution_count": 475,
   "metadata": {
    "colab": {
     "base_uri": "https://localhost:8080/"
    },
    "id": "x2N6w8uHIPZ-",
    "outputId": "8546327b-630c-46fe-b4be-65a52c7ff129"
   },
   "outputs": [
    {
     "data": {
      "text/plain": [
       "2"
      ]
     },
     "execution_count": 475,
     "metadata": {},
     "output_type": "execute_result"
    }
   ],
   "source": [
    "#duplicate values\n",
    "df.duplicated().sum()"
   ]
  },
  {
   "cell_type": "code",
   "execution_count": 476,
   "metadata": {
    "colab": {
     "base_uri": "https://localhost:8080/",
     "height": 582
    },
    "id": "YQd7_RKZmhsL",
    "outputId": "52ad9e76-fe91-422a-97a3-d09f983977ee"
   },
   "outputs": [
    {
     "data": {
      "text/html": [
       "<div>\n",
       "<style scoped>\n",
       "    .dataframe tbody tr th:only-of-type {\n",
       "        vertical-align: middle;\n",
       "    }\n",
       "\n",
       "    .dataframe tbody tr th {\n",
       "        vertical-align: top;\n",
       "    }\n",
       "\n",
       "    .dataframe thead th {\n",
       "        text-align: right;\n",
       "    }\n",
       "</style>\n",
       "<table border=\"1\" class=\"dataframe\">\n",
       "  <thead>\n",
       "    <tr style=\"text-align: right;\">\n",
       "      <th></th>\n",
       "      <th>tweet_text</th>\n",
       "      <th>emotion_in_tweet_is_directed_at</th>\n",
       "      <th>is_there_an_emotion_directed_at_a_brand_or_product</th>\n",
       "    </tr>\n",
       "  </thead>\n",
       "  <tbody>\n",
       "    <tr>\n",
       "      <th>468</th>\n",
       "      <td>Before It Even Begins, Apple Wins #SXSW {link}</td>\n",
       "      <td>Apple</td>\n",
       "      <td>Positive emotion</td>\n",
       "    </tr>\n",
       "    <tr>\n",
       "      <th>776</th>\n",
       "      <td>Google to Launch Major New Social Network Call...</td>\n",
       "      <td>NaN</td>\n",
       "      <td>No emotion toward brand or product</td>\n",
       "    </tr>\n",
       "  </tbody>\n",
       "</table>\n",
       "</div>"
      ],
      "text/plain": [
       "                                            tweet_text  \\\n",
       "468     Before It Even Begins, Apple Wins #SXSW {link}   \n",
       "776  Google to Launch Major New Social Network Call...   \n",
       "\n",
       "    emotion_in_tweet_is_directed_at  \\\n",
       "468                           Apple   \n",
       "776                             NaN   \n",
       "\n",
       "    is_there_an_emotion_directed_at_a_brand_or_product  \n",
       "468                                   Positive emotion  \n",
       "776                 No emotion toward brand or product  "
      ]
     },
     "execution_count": 476,
     "metadata": {},
     "output_type": "execute_result"
    }
   ],
   "source": [
    "#duplicate rows\n",
    "df[df['tweet_text'].duplicated()==True]"
   ]
  },
  {
   "cell_type": "code",
   "execution_count": 477,
   "metadata": {
    "id": "PTM2lv70nOCY"
   },
   "outputs": [],
   "source": [
    "# dropping ALL duplicate values\n",
    "df.drop_duplicates(subset =\"tweet_text\",\n",
    "                     keep = False, inplace = True)"
   ]
  },
  {
   "cell_type": "code",
   "execution_count": 478,
   "metadata": {
    "colab": {
     "base_uri": "https://localhost:8080/"
    },
    "id": "Bfx8y3APIbJH",
    "outputId": "79113312-f845-4c77-d152-3e0192a7a535"
   },
   "outputs": [
    {
     "data": {
      "text/plain": [
       "0"
      ]
     },
     "execution_count": 478,
     "metadata": {},
     "output_type": "execute_result"
    }
   ],
   "source": [
    "df.duplicated().sum()"
   ]
  },
  {
   "cell_type": "code",
   "execution_count": 479,
   "metadata": {
    "colab": {
     "base_uri": "https://localhost:8080/",
     "height": 49
    },
    "id": "W3abdLwLq_xx",
    "outputId": "ae996daf-f2a8-45e1-8ff9-0611a6b9be43"
   },
   "outputs": [
    {
     "data": {
      "text/html": [
       "<div>\n",
       "<style scoped>\n",
       "    .dataframe tbody tr th:only-of-type {\n",
       "        vertical-align: middle;\n",
       "    }\n",
       "\n",
       "    .dataframe tbody tr th {\n",
       "        vertical-align: top;\n",
       "    }\n",
       "\n",
       "    .dataframe thead th {\n",
       "        text-align: right;\n",
       "    }\n",
       "</style>\n",
       "<table border=\"1\" class=\"dataframe\">\n",
       "  <thead>\n",
       "    <tr style=\"text-align: right;\">\n",
       "      <th></th>\n",
       "      <th>tweet_text</th>\n",
       "      <th>emotion_in_tweet_is_directed_at</th>\n",
       "      <th>is_there_an_emotion_directed_at_a_brand_or_product</th>\n",
       "    </tr>\n",
       "  </thead>\n",
       "  <tbody>\n",
       "  </tbody>\n",
       "</table>\n",
       "</div>"
      ],
      "text/plain": [
       "Empty DataFrame\n",
       "Columns: [tweet_text, emotion_in_tweet_is_directed_at, is_there_an_emotion_directed_at_a_brand_or_product]\n",
       "Index: []"
      ]
     },
     "execution_count": 479,
     "metadata": {},
     "output_type": "execute_result"
    }
   ],
   "source": [
    "#no duplicate values\n",
    "df[df['tweet_text'].duplicated()==True]"
   ]
  },
  {
   "cell_type": "code",
   "execution_count": 480,
   "metadata": {
    "colab": {
     "base_uri": "https://localhost:8080/"
    },
    "id": "P9DEe4GDIfjA",
    "outputId": "ea6e7d9b-aa52-4f51-c2f8-2264d1e5bec9"
   },
   "outputs": [
    {
     "data": {
      "text/plain": [
       "tweet_text                                              1\n",
       "emotion_in_tweet_is_directed_at                       603\n",
       "is_there_an_emotion_directed_at_a_brand_or_product      0\n",
       "dtype: int64"
      ]
     },
     "execution_count": 480,
     "metadata": {},
     "output_type": "execute_result"
    }
   ],
   "source": [
    "#null values\n",
    "df.isnull().sum()"
   ]
  },
  {
   "cell_type": "code",
   "execution_count": 481,
   "metadata": {
    "colab": {
     "base_uri": "https://localhost:8080/",
     "height": 112
    },
    "id": "E2eNTpTDI2qy",
    "outputId": "50d1900c-ed67-44eb-a324-9c0b88781bc1"
   },
   "outputs": [
    {
     "data": {
      "text/html": [
       "<div>\n",
       "<style scoped>\n",
       "    .dataframe tbody tr th:only-of-type {\n",
       "        vertical-align: middle;\n",
       "    }\n",
       "\n",
       "    .dataframe tbody tr th {\n",
       "        vertical-align: top;\n",
       "    }\n",
       "\n",
       "    .dataframe thead th {\n",
       "        text-align: right;\n",
       "    }\n",
       "</style>\n",
       "<table border=\"1\" class=\"dataframe\">\n",
       "  <thead>\n",
       "    <tr style=\"text-align: right;\">\n",
       "      <th></th>\n",
       "      <th>tweet_text</th>\n",
       "      <th>emotion_in_tweet_is_directed_at</th>\n",
       "      <th>is_there_an_emotion_directed_at_a_brand_or_product</th>\n",
       "    </tr>\n",
       "  </thead>\n",
       "  <tbody>\n",
       "    <tr>\n",
       "      <th>6</th>\n",
       "      <td>NaN</td>\n",
       "      <td>NaN</td>\n",
       "      <td>No emotion toward brand or product</td>\n",
       "    </tr>\n",
       "  </tbody>\n",
       "</table>\n",
       "</div>"
      ],
      "text/plain": [
       "  tweet_text emotion_in_tweet_is_directed_at  \\\n",
       "6        NaN                             NaN   \n",
       "\n",
       "  is_there_an_emotion_directed_at_a_brand_or_product  \n",
       "6                 No emotion toward brand or product  "
      ]
     },
     "execution_count": 481,
     "metadata": {},
     "output_type": "execute_result"
    }
   ],
   "source": [
    "df[df['tweet_text'].isnull()==True]"
   ]
  },
  {
   "cell_type": "code",
   "execution_count": 482,
   "metadata": {
    "id": "5a19O5RsI4D8"
   },
   "outputs": [],
   "source": [
    "#replace null value by mode\n",
    "df.loc[df['tweet_text'].isnull()==True,'tweet_text']=df.tweet_text.mode()[0]"
   ]
  },
  {
   "cell_type": "code",
   "execution_count": 483,
   "metadata": {
    "colab": {
     "base_uri": "https://localhost:8080/",
     "height": 49
    },
    "id": "75yWshXQ0zPF",
    "outputId": "d266adf3-428e-499d-c909-a0a416c3c28d"
   },
   "outputs": [
    {
     "data": {
      "text/html": [
       "<div>\n",
       "<style scoped>\n",
       "    .dataframe tbody tr th:only-of-type {\n",
       "        vertical-align: middle;\n",
       "    }\n",
       "\n",
       "    .dataframe tbody tr th {\n",
       "        vertical-align: top;\n",
       "    }\n",
       "\n",
       "    .dataframe thead th {\n",
       "        text-align: right;\n",
       "    }\n",
       "</style>\n",
       "<table border=\"1\" class=\"dataframe\">\n",
       "  <thead>\n",
       "    <tr style=\"text-align: right;\">\n",
       "      <th></th>\n",
       "      <th>tweet_text</th>\n",
       "      <th>emotion_in_tweet_is_directed_at</th>\n",
       "      <th>is_there_an_emotion_directed_at_a_brand_or_product</th>\n",
       "    </tr>\n",
       "  </thead>\n",
       "  <tbody>\n",
       "  </tbody>\n",
       "</table>\n",
       "</div>"
      ],
      "text/plain": [
       "Empty DataFrame\n",
       "Columns: [tweet_text, emotion_in_tweet_is_directed_at, is_there_an_emotion_directed_at_a_brand_or_product]\n",
       "Index: []"
      ]
     },
     "execution_count": 483,
     "metadata": {},
     "output_type": "execute_result"
    }
   ],
   "source": [
    "df[df['tweet_text'].isnull()==True]"
   ]
  },
  {
   "cell_type": "code",
   "execution_count": 484,
   "metadata": {},
   "outputs": [
    {
     "data": {
      "text/html": [
       "<div>\n",
       "<style scoped>\n",
       "    .dataframe tbody tr th:only-of-type {\n",
       "        vertical-align: middle;\n",
       "    }\n",
       "\n",
       "    .dataframe tbody tr th {\n",
       "        vertical-align: top;\n",
       "    }\n",
       "\n",
       "    .dataframe thead th {\n",
       "        text-align: right;\n",
       "    }\n",
       "</style>\n",
       "<table border=\"1\" class=\"dataframe\">\n",
       "  <thead>\n",
       "    <tr style=\"text-align: right;\">\n",
       "      <th></th>\n",
       "      <th>tweet_text</th>\n",
       "      <th>emotion_in_tweet_is_directed_at</th>\n",
       "      <th>is_there_an_emotion_directed_at_a_brand_or_product</th>\n",
       "    </tr>\n",
       "  </thead>\n",
       "  <tbody>\n",
       "  </tbody>\n",
       "</table>\n",
       "</div>"
      ],
      "text/plain": [
       "Empty DataFrame\n",
       "Columns: [tweet_text, emotion_in_tweet_is_directed_at, is_there_an_emotion_directed_at_a_brand_or_product]\n",
       "Index: []"
      ]
     },
     "execution_count": 484,
     "metadata": {},
     "output_type": "execute_result"
    }
   ],
   "source": [
    "df[df['tweet_text'].isnull()==True]"
   ]
  },
  {
   "cell_type": "code",
   "execution_count": 485,
   "metadata": {
    "colab": {
     "base_uri": "https://localhost:8080/"
    },
    "id": "uYvpLL-131y-",
    "outputId": "8ab3d377-d7a8-40ed-daff-838ef3a1e2d1"
   },
   "outputs": [
    {
     "data": {
      "text/plain": [
       "tweet_text                                              0\n",
       "emotion_in_tweet_is_directed_at                       603\n",
       "is_there_an_emotion_directed_at_a_brand_or_product      0\n",
       "dtype: int64"
      ]
     },
     "execution_count": 485,
     "metadata": {},
     "output_type": "execute_result"
    }
   ],
   "source": [
    "df.isnull().sum()"
   ]
  },
  {
   "cell_type": "code",
   "execution_count": 486,
   "metadata": {},
   "outputs": [
    {
     "data": {
      "text/html": [
       "<div>\n",
       "<style scoped>\n",
       "    .dataframe tbody tr th:only-of-type {\n",
       "        vertical-align: middle;\n",
       "    }\n",
       "\n",
       "    .dataframe tbody tr th {\n",
       "        vertical-align: top;\n",
       "    }\n",
       "\n",
       "    .dataframe thead th {\n",
       "        text-align: right;\n",
       "    }\n",
       "</style>\n",
       "<table border=\"1\" class=\"dataframe\">\n",
       "  <thead>\n",
       "    <tr style=\"text-align: right;\">\n",
       "      <th></th>\n",
       "      <th>tweet_text</th>\n",
       "      <th>emotion_in_tweet_is_directed_at</th>\n",
       "      <th>is_there_an_emotion_directed_at_a_brand_or_product</th>\n",
       "    </tr>\n",
       "  </thead>\n",
       "  <tbody>\n",
       "    <tr>\n",
       "      <th>5</th>\n",
       "      <td>@teachntech00 New iPad Apps For #SpeechTherapy...</td>\n",
       "      <td>NaN</td>\n",
       "      <td>No emotion toward brand or product</td>\n",
       "    </tr>\n",
       "    <tr>\n",
       "      <th>6</th>\n",
       "      <td>#4sq sees Facebook and Google as competition v...</td>\n",
       "      <td>NaN</td>\n",
       "      <td>No emotion toward brand or product</td>\n",
       "    </tr>\n",
       "    <tr>\n",
       "      <th>16</th>\n",
       "      <td>Holler Gram for iPad on the iTunes App Store -...</td>\n",
       "      <td>NaN</td>\n",
       "      <td>No emotion toward brand or product</td>\n",
       "    </tr>\n",
       "    <tr>\n",
       "      <th>32</th>\n",
       "      <td>Attn: All  #SXSW frineds, @mention Register fo...</td>\n",
       "      <td>NaN</td>\n",
       "      <td>No emotion toward brand or product</td>\n",
       "    </tr>\n",
       "    <tr>\n",
       "      <th>33</th>\n",
       "      <td>Anyone at  #sxsw want to sell their old iPad?</td>\n",
       "      <td>NaN</td>\n",
       "      <td>No emotion toward brand or product</td>\n",
       "    </tr>\n",
       "    <tr>\n",
       "      <th>...</th>\n",
       "      <td>...</td>\n",
       "      <td>...</td>\n",
       "      <td>...</td>\n",
       "    </tr>\n",
       "    <tr>\n",
       "      <th>991</th>\n",
       "      <td>One #SXSW panel moderator who is from the Euro...</td>\n",
       "      <td>NaN</td>\n",
       "      <td>No emotion toward brand or product</td>\n",
       "    </tr>\n",
       "    <tr>\n",
       "      <th>992</th>\n",
       "      <td>The brown paper on the windows as the line gro...</td>\n",
       "      <td>NaN</td>\n",
       "      <td>No emotion toward brand or product</td>\n",
       "    </tr>\n",
       "    <tr>\n",
       "      <th>993</th>\n",
       "      <td>#sxsw two parties down (Awesome Journalism, NP...</td>\n",
       "      <td>NaN</td>\n",
       "      <td>No emotion toward brand or product</td>\n",
       "    </tr>\n",
       "    <tr>\n",
       "      <th>996</th>\n",
       "      <td>Watch how people interact with information... ...</td>\n",
       "      <td>NaN</td>\n",
       "      <td>No emotion toward brand or product</td>\n",
       "    </tr>\n",
       "    <tr>\n",
       "      <th>997</th>\n",
       "      <td>Hey #sxsw people! Survival tip no 2. Great veg...</td>\n",
       "      <td>NaN</td>\n",
       "      <td>No emotion toward brand or product</td>\n",
       "    </tr>\n",
       "  </tbody>\n",
       "</table>\n",
       "<p>603 rows × 3 columns</p>\n",
       "</div>"
      ],
      "text/plain": [
       "                                            tweet_text  \\\n",
       "5    @teachntech00 New iPad Apps For #SpeechTherapy...   \n",
       "6    #4sq sees Facebook and Google as competition v...   \n",
       "16   Holler Gram for iPad on the iTunes App Store -...   \n",
       "32   Attn: All  #SXSW frineds, @mention Register fo...   \n",
       "33       Anyone at  #sxsw want to sell their old iPad?   \n",
       "..                                                 ...   \n",
       "991  One #SXSW panel moderator who is from the Euro...   \n",
       "992  The brown paper on the windows as the line gro...   \n",
       "993  #sxsw two parties down (Awesome Journalism, NP...   \n",
       "996  Watch how people interact with information... ...   \n",
       "997  Hey #sxsw people! Survival tip no 2. Great veg...   \n",
       "\n",
       "    emotion_in_tweet_is_directed_at  \\\n",
       "5                               NaN   \n",
       "6                               NaN   \n",
       "16                              NaN   \n",
       "32                              NaN   \n",
       "33                              NaN   \n",
       "..                              ...   \n",
       "991                             NaN   \n",
       "992                             NaN   \n",
       "993                             NaN   \n",
       "996                             NaN   \n",
       "997                             NaN   \n",
       "\n",
       "    is_there_an_emotion_directed_at_a_brand_or_product  \n",
       "5                   No emotion toward brand or product  \n",
       "6                   No emotion toward brand or product  \n",
       "16                  No emotion toward brand or product  \n",
       "32                  No emotion toward brand or product  \n",
       "33                  No emotion toward brand or product  \n",
       "..                                                 ...  \n",
       "991                 No emotion toward brand or product  \n",
       "992                 No emotion toward brand or product  \n",
       "993                 No emotion toward brand or product  \n",
       "996                 No emotion toward brand or product  \n",
       "997                 No emotion toward brand or product  \n",
       "\n",
       "[603 rows x 3 columns]"
      ]
     },
     "execution_count": 486,
     "metadata": {},
     "output_type": "execute_result"
    }
   ],
   "source": [
    "df[df['emotion_in_tweet_is_directed_at'].isnull()==True]"
   ]
  },
  {
   "cell_type": "code",
   "execution_count": 487,
   "metadata": {},
   "outputs": [],
   "source": [
    "#replace null value by mode\n",
    "df.loc[df['emotion_in_tweet_is_directed_at'].isnull()==True,'emotion_in_tweet_is_directed_at']=df.emotion_in_tweet_is_directed_at.mode()[0]"
   ]
  },
  {
   "cell_type": "code",
   "execution_count": 488,
   "metadata": {},
   "outputs": [
    {
     "data": {
      "text/plain": [
       "tweet_text                                            0\n",
       "emotion_in_tweet_is_directed_at                       0\n",
       "is_there_an_emotion_directed_at_a_brand_or_product    0\n",
       "dtype: int64"
      ]
     },
     "execution_count": 488,
     "metadata": {},
     "output_type": "execute_result"
    }
   ],
   "source": [
    "df.isnull().sum()"
   ]
  },
  {
   "cell_type": "markdown",
   "metadata": {},
   "source": [
    "## Exploratory Data analysis"
   ]
  },
  {
   "cell_type": "code",
   "execution_count": 489,
   "metadata": {
    "colab": {
     "base_uri": "https://localhost:8080/",
     "height": 296
    },
    "id": "uVxxV4zm4fLZ",
    "outputId": "975265b8-cfe7-4bdf-cb1d-a1c6d8511b59"
   },
   "outputs": [
    {
     "data": {
      "image/png": "[encoded data removed]",
      "text/plain": [
       "<Figure size 1080x720 with 1 Axes>"
      ]
     },
     "metadata": {
      "needs_background": "light"
     },
     "output_type": "display_data"
    }
   ],
   "source": [
    "import seaborn as sns\n",
    "from matplotlib import pyplot as plt\n",
    "plt.figure(figsize=(15,10))\n",
    "ax=sns.countplot(x='emotion_in_tweet_is_directed_at',data=df)"
   ]
  },
  {
   "cell_type": "code",
   "execution_count": 490,
   "metadata": {},
   "outputs": [],
   "source": [
    "#most of people are using ipad"
   ]
  },
  {
   "cell_type": "code",
   "execution_count": 491,
   "metadata": {},
   "outputs": [
    {
     "data": {
      "image/png": "[encoded data removed]",
      "text/plain": [
       "<Figure size 720x720 with 1 Axes>"
      ]
     },
     "metadata": {
      "needs_background": "light"
     },
     "output_type": "display_data"
    }
   ],
   "source": [
    "plt.figure(figsize=(10,10))\n",
    "ax=sns.countplot(x='is_there_an_emotion_directed_at_a_brand_or_product',data=df)"
   ]
  },
  {
   "cell_type": "code",
   "execution_count": 492,
   "metadata": {},
   "outputs": [],
   "source": [
    "#most people are having no emotion"
   ]
  },
  {
   "cell_type": "markdown",
   "metadata": {
    "id": "pZnwBu5bI8Qv"
   },
   "source": [
    "**Text preprocessing**"
   ]
  },
  {
   "cell_type": "code",
   "execution_count": 493,
   "metadata": {
    "colab": {
     "base_uri": "https://localhost:8080/"
    },
    "id": "gg8AsMqjJE3h",
    "outputId": "a29a57e0-7b76-4863-8693-74927ea9218f"
   },
   "outputs": [
    {
     "data": {
      "text/plain": [
       "0      .@wesley83 I have a 3G iPhone. After 3 hrs twe...\n",
       "1      @jessedee Know about @fludapp ? Awesome iPad/i...\n",
       "2      @swonderlin Can not wait for #iPad 2 also. The...\n",
       "3      @sxsw I hope this year's festival isn't as cra...\n",
       "4      @sxtxstate great stuff on Fri #SXSW: Marissa M...\n",
       "                             ...                        \n",
       "993    #sxsw two parties down (Awesome Journalism, NP...\n",
       "994    At google party. Best ever! Get your butt over...\n",
       "995    Hey #sxsw peeps! Our new IPhone app ON #Voicef...\n",
       "996    Watch how people interact with information... ...\n",
       "997    Hey #sxsw people! Survival tip no 2. Great veg...\n",
       "Name: tweet_text, Length: 994, dtype: object"
      ]
     },
     "execution_count": 493,
     "metadata": {},
     "output_type": "execute_result"
    }
   ],
   "source": [
    "df['tweet_text']"
   ]
  },
  {
   "cell_type": "code",
   "execution_count": 494,
   "metadata": {
    "colab": {
     "base_uri": "https://localhost:8080/",
     "height": 302
    },
    "id": "_5en4W7DIa5E",
    "outputId": "f829b3bd-0bda-4632-e5a6-75f7b1b779a3"
   },
   "outputs": [
    {
     "data": {
      "text/html": [
       "<div>\n",
       "<style scoped>\n",
       "    .dataframe tbody tr th:only-of-type {\n",
       "        vertical-align: middle;\n",
       "    }\n",
       "\n",
       "    .dataframe tbody tr th {\n",
       "        vertical-align: top;\n",
       "    }\n",
       "\n",
       "    .dataframe thead th {\n",
       "        text-align: right;\n",
       "    }\n",
       "</style>\n",
       "<table border=\"1\" class=\"dataframe\">\n",
       "  <thead>\n",
       "    <tr style=\"text-align: right;\">\n",
       "      <th></th>\n",
       "      <th>tweet_text</th>\n",
       "      <th>emotion_in_tweet_is_directed_at</th>\n",
       "      <th>is_there_an_emotion_directed_at_a_brand_or_product</th>\n",
       "      <th>clean_Text</th>\n",
       "    </tr>\n",
       "  </thead>\n",
       "  <tbody>\n",
       "    <tr>\n",
       "      <th>0</th>\n",
       "      <td>.@wesley83 I have a 3G iPhone. After 3 hrs twe...</td>\n",
       "      <td>iPhone</td>\n",
       "      <td>Negative emotion</td>\n",
       "      <td>wesley83 I have a 3G iPhone After 3 hrs tweeti...</td>\n",
       "    </tr>\n",
       "    <tr>\n",
       "      <th>1</th>\n",
       "      <td>@jessedee Know about @fludapp ? Awesome iPad/i...</td>\n",
       "      <td>iPad or iPhone App</td>\n",
       "      <td>Positive emotion</td>\n",
       "      <td>jessedee Know about fludapp  Awesome iPadiPhon...</td>\n",
       "    </tr>\n",
       "    <tr>\n",
       "      <th>2</th>\n",
       "      <td>@swonderlin Can not wait for #iPad 2 also. The...</td>\n",
       "      <td>iPad</td>\n",
       "      <td>Positive emotion</td>\n",
       "      <td>swonderlin Can not wait for iPad 2 also They s...</td>\n",
       "    </tr>\n",
       "    <tr>\n",
       "      <th>3</th>\n",
       "      <td>@sxsw I hope this year's festival isn't as cra...</td>\n",
       "      <td>iPad or iPhone App</td>\n",
       "      <td>Negative emotion</td>\n",
       "      <td>sxsw I hope this years festival isnt as crashy...</td>\n",
       "    </tr>\n",
       "    <tr>\n",
       "      <th>4</th>\n",
       "      <td>@sxtxstate great stuff on Fri #SXSW: Marissa M...</td>\n",
       "      <td>Google</td>\n",
       "      <td>Positive emotion</td>\n",
       "      <td>sxtxstate great stuff on Fri SXSW Marissa Maye...</td>\n",
       "    </tr>\n",
       "  </tbody>\n",
       "</table>\n",
       "</div>"
      ],
      "text/plain": [
       "                                          tweet_text  \\\n",
       "0  .@wesley83 I have a 3G iPhone. After 3 hrs twe...   \n",
       "1  @jessedee Know about @fludapp ? Awesome iPad/i...   \n",
       "2  @swonderlin Can not wait for #iPad 2 also. The...   \n",
       "3  @sxsw I hope this year's festival isn't as cra...   \n",
       "4  @sxtxstate great stuff on Fri #SXSW: Marissa M...   \n",
       "\n",
       "  emotion_in_tweet_is_directed_at  \\\n",
       "0                          iPhone   \n",
       "1              iPad or iPhone App   \n",
       "2                            iPad   \n",
       "3              iPad or iPhone App   \n",
       "4                          Google   \n",
       "\n",
       "  is_there_an_emotion_directed_at_a_brand_or_product  \\\n",
       "0                                   Negative emotion   \n",
       "1                                   Positive emotion   \n",
       "2                                   Positive emotion   \n",
       "3                                   Negative emotion   \n",
       "4                                   Positive emotion   \n",
       "\n",
       "                                          clean_Text  \n",
       "0  wesley83 I have a 3G iPhone After 3 hrs tweeti...  \n",
       "1  jessedee Know about fludapp  Awesome iPadiPhon...  \n",
       "2  swonderlin Can not wait for iPad 2 also They s...  \n",
       "3  sxsw I hope this years festival isnt as crashy...  \n",
       "4  sxtxstate great stuff on Fri SXSW Marissa Maye...  "
      ]
     },
     "execution_count": 494,
     "metadata": {},
     "output_type": "execute_result"
    }
   ],
   "source": [
    "#library that contains punctuation\n",
    "import string\n",
    "string.punctuation\n",
    "\n",
    "\n",
    "def remove_punctuation(text):\n",
    "    punctuationfree=\"\".join([i for i in text if i not in string.punctuation])\n",
    "    return punctuationfree\n",
    "\n",
    "df['clean_Text']= df['tweet_text'].apply(lambda x:remove_punctuation(x))\n",
    "df.head()\n"
   ]
  },
  {
   "cell_type": "code",
   "execution_count": 495,
   "metadata": {
    "colab": {
     "base_uri": "https://localhost:8080/"
    },
    "id": "14rFu9e_Xont",
    "outputId": "0791a98e-93bb-4b82-d087-f62d7db5a9b2"
   },
   "outputs": [
    {
     "name": "stderr",
     "output_type": "stream",
     "text": [
      "[nltk_data] Downloading package punkt to C:\\Users\\Deepak\n",
      "[nltk_data]     Raj\\AppData\\Roaming\\nltk_data...\n",
      "[nltk_data]   Package punkt is already up-to-date!\n",
      "[nltk_data] Downloading package wordnet to C:\\Users\\Deepak\n",
      "[nltk_data]     Raj\\AppData\\Roaming\\nltk_data...\n",
      "[nltk_data]   Package wordnet is already up-to-date!\n"
     ]
    },
    {
     "data": {
      "text/plain": [
       "True"
      ]
     },
     "execution_count": 495,
     "metadata": {},
     "output_type": "execute_result"
    }
   ],
   "source": [
    "#Tokenization\n",
    "import nltk\n",
    "nltk.download('punkt')\n",
    "nltk.download('wordnet')"
   ]
  },
  {
   "cell_type": "code",
   "execution_count": null,
   "metadata": {},
   "outputs": [],
   "source": []
  },
  {
   "cell_type": "code",
   "execution_count": 496,
   "metadata": {
    "id": "HSKCJvFAYK7C"
   },
   "outputs": [],
   "source": [
    "from nltk.tokenize import word_tokenize\n",
    "df['clean_Text']=df['clean_Text'].apply(word_tokenize)"
   ]
  },
  {
   "cell_type": "code",
   "execution_count": 497,
   "metadata": {
    "colab": {
     "base_uri": "https://localhost:8080/",
     "height": 589
    },
    "id": "CDPSZYc1-jZv",
    "outputId": "410359a5-17c7-4b7a-c4ae-46b77a061ae2"
   },
   "outputs": [
    {
     "data": {
      "text/html": [
       "<div>\n",
       "<style scoped>\n",
       "    .dataframe tbody tr th:only-of-type {\n",
       "        vertical-align: middle;\n",
       "    }\n",
       "\n",
       "    .dataframe tbody tr th {\n",
       "        vertical-align: top;\n",
       "    }\n",
       "\n",
       "    .dataframe thead th {\n",
       "        text-align: right;\n",
       "    }\n",
       "</style>\n",
       "<table border=\"1\" class=\"dataframe\">\n",
       "  <thead>\n",
       "    <tr style=\"text-align: right;\">\n",
       "      <th></th>\n",
       "      <th>tweet_text</th>\n",
       "      <th>emotion_in_tweet_is_directed_at</th>\n",
       "      <th>is_there_an_emotion_directed_at_a_brand_or_product</th>\n",
       "      <th>clean_Text</th>\n",
       "    </tr>\n",
       "  </thead>\n",
       "  <tbody>\n",
       "    <tr>\n",
       "      <th>0</th>\n",
       "      <td>.@wesley83 I have a 3G iPhone. After 3 hrs twe...</td>\n",
       "      <td>iPhone</td>\n",
       "      <td>Negative emotion</td>\n",
       "      <td>[wesley83, I, have, a, 3G, iPhone, After, 3, h...</td>\n",
       "    </tr>\n",
       "    <tr>\n",
       "      <th>1</th>\n",
       "      <td>@jessedee Know about @fludapp ? Awesome iPad/i...</td>\n",
       "      <td>iPad or iPhone App</td>\n",
       "      <td>Positive emotion</td>\n",
       "      <td>[jessedee, Know, about, fludapp, Awesome, iPad...</td>\n",
       "    </tr>\n",
       "    <tr>\n",
       "      <th>2</th>\n",
       "      <td>@swonderlin Can not wait for #iPad 2 also. The...</td>\n",
       "      <td>iPad</td>\n",
       "      <td>Positive emotion</td>\n",
       "      <td>[swonderlin, Can, not, wait, for, iPad, 2, als...</td>\n",
       "    </tr>\n",
       "    <tr>\n",
       "      <th>3</th>\n",
       "      <td>@sxsw I hope this year's festival isn't as cra...</td>\n",
       "      <td>iPad or iPhone App</td>\n",
       "      <td>Negative emotion</td>\n",
       "      <td>[sxsw, I, hope, this, years, festival, isnt, a...</td>\n",
       "    </tr>\n",
       "    <tr>\n",
       "      <th>4</th>\n",
       "      <td>@sxtxstate great stuff on Fri #SXSW: Marissa M...</td>\n",
       "      <td>Google</td>\n",
       "      <td>Positive emotion</td>\n",
       "      <td>[sxtxstate, great, stuff, on, Fri, SXSW, Maris...</td>\n",
       "    </tr>\n",
       "    <tr>\n",
       "      <th>...</th>\n",
       "      <td>...</td>\n",
       "      <td>...</td>\n",
       "      <td>...</td>\n",
       "      <td>...</td>\n",
       "    </tr>\n",
       "    <tr>\n",
       "      <th>993</th>\n",
       "      <td>#sxsw two parties down (Awesome Journalism, NP...</td>\n",
       "      <td>iPad</td>\n",
       "      <td>No emotion toward brand or product</td>\n",
       "      <td>[sxsw, two, parties, down, Awesome, Journalism...</td>\n",
       "    </tr>\n",
       "    <tr>\n",
       "      <th>994</th>\n",
       "      <td>At google party. Best ever! Get your butt over...</td>\n",
       "      <td>Google</td>\n",
       "      <td>Positive emotion</td>\n",
       "      <td>[At, google, party, Best, ever, Get, your, but...</td>\n",
       "    </tr>\n",
       "    <tr>\n",
       "      <th>995</th>\n",
       "      <td>Hey #sxsw peeps! Our new IPhone app ON #Voicef...</td>\n",
       "      <td>iPad or iPhone App</td>\n",
       "      <td>Positive emotion</td>\n",
       "      <td>[Hey, sxsw, peeps, Our, new, IPhone, app, ON, ...</td>\n",
       "    </tr>\n",
       "    <tr>\n",
       "      <th>996</th>\n",
       "      <td>Watch how people interact with information... ...</td>\n",
       "      <td>iPad</td>\n",
       "      <td>No emotion toward brand or product</td>\n",
       "      <td>[Watch, how, people, interact, with, informati...</td>\n",
       "    </tr>\n",
       "    <tr>\n",
       "      <th>997</th>\n",
       "      <td>Hey #sxsw people! Survival tip no 2. Great veg...</td>\n",
       "      <td>iPad</td>\n",
       "      <td>No emotion toward brand or product</td>\n",
       "      <td>[Hey, sxsw, people, Survival, tip, no, 2, Grea...</td>\n",
       "    </tr>\n",
       "  </tbody>\n",
       "</table>\n",
       "<p>994 rows × 4 columns</p>\n",
       "</div>"
      ],
      "text/plain": [
       "                                            tweet_text  \\\n",
       "0    .@wesley83 I have a 3G iPhone. After 3 hrs twe...   \n",
       "1    @jessedee Know about @fludapp ? Awesome iPad/i...   \n",
       "2    @swonderlin Can not wait for #iPad 2 also. The...   \n",
       "3    @sxsw I hope this year's festival isn't as cra...   \n",
       "4    @sxtxstate great stuff on Fri #SXSW: Marissa M...   \n",
       "..                                                 ...   \n",
       "993  #sxsw two parties down (Awesome Journalism, NP...   \n",
       "994  At google party. Best ever! Get your butt over...   \n",
       "995  Hey #sxsw peeps! Our new IPhone app ON #Voicef...   \n",
       "996  Watch how people interact with information... ...   \n",
       "997  Hey #sxsw people! Survival tip no 2. Great veg...   \n",
       "\n",
       "    emotion_in_tweet_is_directed_at  \\\n",
       "0                            iPhone   \n",
       "1                iPad or iPhone App   \n",
       "2                              iPad   \n",
       "3                iPad or iPhone App   \n",
       "4                            Google   \n",
       "..                              ...   \n",
       "993                            iPad   \n",
       "994                          Google   \n",
       "995              iPad or iPhone App   \n",
       "996                            iPad   \n",
       "997                            iPad   \n",
       "\n",
       "    is_there_an_emotion_directed_at_a_brand_or_product  \\\n",
       "0                                     Negative emotion   \n",
       "1                                     Positive emotion   \n",
       "2                                     Positive emotion   \n",
       "3                                     Negative emotion   \n",
       "4                                     Positive emotion   \n",
       "..                                                 ...   \n",
       "993                 No emotion toward brand or product   \n",
       "994                                   Positive emotion   \n",
       "995                                   Positive emotion   \n",
       "996                 No emotion toward brand or product   \n",
       "997                 No emotion toward brand or product   \n",
       "\n",
       "                                            clean_Text  \n",
       "0    [wesley83, I, have, a, 3G, iPhone, After, 3, h...  \n",
       "1    [jessedee, Know, about, fludapp, Awesome, iPad...  \n",
       "2    [swonderlin, Can, not, wait, for, iPad, 2, als...  \n",
       "3    [sxsw, I, hope, this, years, festival, isnt, a...  \n",
       "4    [sxtxstate, great, stuff, on, Fri, SXSW, Maris...  \n",
       "..                                                 ...  \n",
       "993  [sxsw, two, parties, down, Awesome, Journalism...  \n",
       "994  [At, google, party, Best, ever, Get, your, but...  \n",
       "995  [Hey, sxsw, peeps, Our, new, IPhone, app, ON, ...  \n",
       "996  [Watch, how, people, interact, with, informati...  \n",
       "997  [Hey, sxsw, people, Survival, tip, no, 2, Grea...  \n",
       "\n",
       "[994 rows x 4 columns]"
      ]
     },
     "execution_count": 497,
     "metadata": {},
     "output_type": "execute_result"
    }
   ],
   "source": [
    "df"
   ]
  },
  {
   "cell_type": "code",
   "execution_count": 498,
   "metadata": {
    "colab": {
     "base_uri": "https://localhost:8080/"
    },
    "id": "XnhmHq1z6yHM",
    "outputId": "36ee85c7-efbb-41a0-bbf1-1add97fcc2ac"
   },
   "outputs": [
    {
     "name": "stderr",
     "output_type": "stream",
     "text": [
      "[nltk_data] Downloading package stopwords to C:\\Users\\Deepak\n",
      "[nltk_data]     Raj\\AppData\\Roaming\\nltk_data...\n",
      "[nltk_data]   Package stopwords is already up-to-date!\n"
     ]
    }
   ],
   "source": [
    "#stopwords\n",
    "nltk.download('stopwords')\n",
    "from nltk.corpus import stopwords\n",
    "stop_words=stopwords.words('english')"
   ]
  },
  {
   "cell_type": "code",
   "execution_count": 499,
   "metadata": {
    "id": "fup89zOs90aP"
   },
   "outputs": [],
   "source": [
    "#remove stopwords\n",
    "df['clean_Text']=df['clean_Text'].apply(lambda x: [item for item in x if item not in stop_words])"
   ]
  },
  {
   "cell_type": "code",
   "execution_count": 500,
   "metadata": {
    "colab": {
     "base_uri": "https://localhost:8080/",
     "height": 607
    },
    "id": "je99Mryo_CsX",
    "outputId": "fb85b9df-db4a-44c2-c12a-75e2a3e27b31"
   },
   "outputs": [
    {
     "data": {
      "text/html": [
       "<div>\n",
       "<style scoped>\n",
       "    .dataframe tbody tr th:only-of-type {\n",
       "        vertical-align: middle;\n",
       "    }\n",
       "\n",
       "    .dataframe tbody tr th {\n",
       "        vertical-align: top;\n",
       "    }\n",
       "\n",
       "    .dataframe thead th {\n",
       "        text-align: right;\n",
       "    }\n",
       "</style>\n",
       "<table border=\"1\" class=\"dataframe\">\n",
       "  <thead>\n",
       "    <tr style=\"text-align: right;\">\n",
       "      <th></th>\n",
       "      <th>tweet_text</th>\n",
       "      <th>emotion_in_tweet_is_directed_at</th>\n",
       "      <th>is_there_an_emotion_directed_at_a_brand_or_product</th>\n",
       "      <th>clean_Text</th>\n",
       "    </tr>\n",
       "  </thead>\n",
       "  <tbody>\n",
       "    <tr>\n",
       "      <th>0</th>\n",
       "      <td>.@wesley83 I have a 3G iPhone. After 3 hrs twe...</td>\n",
       "      <td>iPhone</td>\n",
       "      <td>Negative emotion</td>\n",
       "      <td>[wesley83, I, 3G, iPhone, After, 3, hrs, tweet...</td>\n",
       "    </tr>\n",
       "    <tr>\n",
       "      <th>1</th>\n",
       "      <td>@jessedee Know about @fludapp ? Awesome iPad/i...</td>\n",
       "      <td>iPad or iPhone App</td>\n",
       "      <td>Positive emotion</td>\n",
       "      <td>[jessedee, Know, fludapp, Awesome, iPadiPhone,...</td>\n",
       "    </tr>\n",
       "    <tr>\n",
       "      <th>2</th>\n",
       "      <td>@swonderlin Can not wait for #iPad 2 also. The...</td>\n",
       "      <td>iPad</td>\n",
       "      <td>Positive emotion</td>\n",
       "      <td>[swonderlin, Can, wait, iPad, 2, also, They, s...</td>\n",
       "    </tr>\n",
       "    <tr>\n",
       "      <th>3</th>\n",
       "      <td>@sxsw I hope this year's festival isn't as cra...</td>\n",
       "      <td>iPad or iPhone App</td>\n",
       "      <td>Negative emotion</td>\n",
       "      <td>[sxsw, I, hope, years, festival, isnt, crashy,...</td>\n",
       "    </tr>\n",
       "    <tr>\n",
       "      <th>4</th>\n",
       "      <td>@sxtxstate great stuff on Fri #SXSW: Marissa M...</td>\n",
       "      <td>Google</td>\n",
       "      <td>Positive emotion</td>\n",
       "      <td>[sxtxstate, great, stuff, Fri, SXSW, Marissa, ...</td>\n",
       "    </tr>\n",
       "    <tr>\n",
       "      <th>...</th>\n",
       "      <td>...</td>\n",
       "      <td>...</td>\n",
       "      <td>...</td>\n",
       "      <td>...</td>\n",
       "    </tr>\n",
       "    <tr>\n",
       "      <th>993</th>\n",
       "      <td>#sxsw two parties down (Awesome Journalism, NP...</td>\n",
       "      <td>iPad</td>\n",
       "      <td>No emotion toward brand or product</td>\n",
       "      <td>[sxsw, two, parties, Awesome, Journalism, NPRG...</td>\n",
       "    </tr>\n",
       "    <tr>\n",
       "      <th>994</th>\n",
       "      <td>At google party. Best ever! Get your butt over...</td>\n",
       "      <td>Google</td>\n",
       "      <td>Positive emotion</td>\n",
       "      <td>[At, google, party, Best, ever, Get, butt, sxsw]</td>\n",
       "    </tr>\n",
       "    <tr>\n",
       "      <th>995</th>\n",
       "      <td>Hey #sxsw peeps! Our new IPhone app ON #Voicef...</td>\n",
       "      <td>iPad or iPhone App</td>\n",
       "      <td>Positive emotion</td>\n",
       "      <td>[Hey, sxsw, peeps, Our, new, IPhone, app, ON, ...</td>\n",
       "    </tr>\n",
       "    <tr>\n",
       "      <th>996</th>\n",
       "      <td>Watch how people interact with information... ...</td>\n",
       "      <td>iPad</td>\n",
       "      <td>No emotion toward brand or product</td>\n",
       "      <td>[Watch, people, interact, information, differe...</td>\n",
       "    </tr>\n",
       "    <tr>\n",
       "      <th>997</th>\n",
       "      <td>Hey #sxsw people! Survival tip no 2. Great veg...</td>\n",
       "      <td>iPad</td>\n",
       "      <td>No emotion toward brand or product</td>\n",
       "      <td>[Hey, sxsw, people, Survival, tip, 2, Great, v...</td>\n",
       "    </tr>\n",
       "  </tbody>\n",
       "</table>\n",
       "<p>994 rows × 4 columns</p>\n",
       "</div>"
      ],
      "text/plain": [
       "                                            tweet_text  \\\n",
       "0    .@wesley83 I have a 3G iPhone. After 3 hrs twe...   \n",
       "1    @jessedee Know about @fludapp ? Awesome iPad/i...   \n",
       "2    @swonderlin Can not wait for #iPad 2 also. The...   \n",
       "3    @sxsw I hope this year's festival isn't as cra...   \n",
       "4    @sxtxstate great stuff on Fri #SXSW: Marissa M...   \n",
       "..                                                 ...   \n",
       "993  #sxsw two parties down (Awesome Journalism, NP...   \n",
       "994  At google party. Best ever! Get your butt over...   \n",
       "995  Hey #sxsw peeps! Our new IPhone app ON #Voicef...   \n",
       "996  Watch how people interact with information... ...   \n",
       "997  Hey #sxsw people! Survival tip no 2. Great veg...   \n",
       "\n",
       "    emotion_in_tweet_is_directed_at  \\\n",
       "0                            iPhone   \n",
       "1                iPad or iPhone App   \n",
       "2                              iPad   \n",
       "3                iPad or iPhone App   \n",
       "4                            Google   \n",
       "..                              ...   \n",
       "993                            iPad   \n",
       "994                          Google   \n",
       "995              iPad or iPhone App   \n",
       "996                            iPad   \n",
       "997                            iPad   \n",
       "\n",
       "    is_there_an_emotion_directed_at_a_brand_or_product  \\\n",
       "0                                     Negative emotion   \n",
       "1                                     Positive emotion   \n",
       "2                                     Positive emotion   \n",
       "3                                     Negative emotion   \n",
       "4                                     Positive emotion   \n",
       "..                                                 ...   \n",
       "993                 No emotion toward brand or product   \n",
       "994                                   Positive emotion   \n",
       "995                                   Positive emotion   \n",
       "996                 No emotion toward brand or product   \n",
       "997                 No emotion toward brand or product   \n",
       "\n",
       "                                            clean_Text  \n",
       "0    [wesley83, I, 3G, iPhone, After, 3, hrs, tweet...  \n",
       "1    [jessedee, Know, fludapp, Awesome, iPadiPhone,...  \n",
       "2    [swonderlin, Can, wait, iPad, 2, also, They, s...  \n",
       "3    [sxsw, I, hope, years, festival, isnt, crashy,...  \n",
       "4    [sxtxstate, great, stuff, Fri, SXSW, Marissa, ...  \n",
       "..                                                 ...  \n",
       "993  [sxsw, two, parties, Awesome, Journalism, NPRG...  \n",
       "994   [At, google, party, Best, ever, Get, butt, sxsw]  \n",
       "995  [Hey, sxsw, peeps, Our, new, IPhone, app, ON, ...  \n",
       "996  [Watch, people, interact, information, differe...  \n",
       "997  [Hey, sxsw, people, Survival, tip, 2, Great, v...  \n",
       "\n",
       "[994 rows x 4 columns]"
      ]
     },
     "execution_count": 500,
     "metadata": {},
     "output_type": "execute_result"
    }
   ],
   "source": [
    "df"
   ]
  },
  {
   "cell_type": "code",
   "execution_count": 501,
   "metadata": {},
   "outputs": [],
   "source": [
    "#Label encoder\n",
    "from sklearn.preprocessing import LabelEncoder\n",
    "LE=LabelEncoder()\n",
    "df['emotion_in_tweet_is_directed_at']=LE.fit_transform(df.emotion_in_tweet_is_directed_at)"
   ]
  },
  {
   "cell_type": "code",
   "execution_count": 502,
   "metadata": {},
   "outputs": [
    {
     "data": {
      "text/html": [
       "<div>\n",
       "<style scoped>\n",
       "    .dataframe tbody tr th:only-of-type {\n",
       "        vertical-align: middle;\n",
       "    }\n",
       "\n",
       "    .dataframe tbody tr th {\n",
       "        vertical-align: top;\n",
       "    }\n",
       "\n",
       "    .dataframe thead th {\n",
       "        text-align: right;\n",
       "    }\n",
       "</style>\n",
       "<table border=\"1\" class=\"dataframe\">\n",
       "  <thead>\n",
       "    <tr style=\"text-align: right;\">\n",
       "      <th></th>\n",
       "      <th>tweet_text</th>\n",
       "      <th>emotion_in_tweet_is_directed_at</th>\n",
       "      <th>is_there_an_emotion_directed_at_a_brand_or_product</th>\n",
       "      <th>clean_Text</th>\n",
       "    </tr>\n",
       "  </thead>\n",
       "  <tbody>\n",
       "    <tr>\n",
       "      <th>0</th>\n",
       "      <td>.@wesley83 I have a 3G iPhone. After 3 hrs twe...</td>\n",
       "      <td>8</td>\n",
       "      <td>Negative emotion</td>\n",
       "      <td>[wesley83, I, 3G, iPhone, After, 3, hrs, tweet...</td>\n",
       "    </tr>\n",
       "    <tr>\n",
       "      <th>1</th>\n",
       "      <td>@jessedee Know about @fludapp ? Awesome iPad/i...</td>\n",
       "      <td>7</td>\n",
       "      <td>Positive emotion</td>\n",
       "      <td>[jessedee, Know, fludapp, Awesome, iPadiPhone,...</td>\n",
       "    </tr>\n",
       "    <tr>\n",
       "      <th>2</th>\n",
       "      <td>@swonderlin Can not wait for #iPad 2 also. The...</td>\n",
       "      <td>6</td>\n",
       "      <td>Positive emotion</td>\n",
       "      <td>[swonderlin, Can, wait, iPad, 2, also, They, s...</td>\n",
       "    </tr>\n",
       "    <tr>\n",
       "      <th>3</th>\n",
       "      <td>@sxsw I hope this year's festival isn't as cra...</td>\n",
       "      <td>7</td>\n",
       "      <td>Negative emotion</td>\n",
       "      <td>[sxsw, I, hope, years, festival, isnt, crashy,...</td>\n",
       "    </tr>\n",
       "    <tr>\n",
       "      <th>4</th>\n",
       "      <td>@sxtxstate great stuff on Fri #SXSW: Marissa M...</td>\n",
       "      <td>3</td>\n",
       "      <td>Positive emotion</td>\n",
       "      <td>[sxtxstate, great, stuff, Fri, SXSW, Marissa, ...</td>\n",
       "    </tr>\n",
       "    <tr>\n",
       "      <th>...</th>\n",
       "      <td>...</td>\n",
       "      <td>...</td>\n",
       "      <td>...</td>\n",
       "      <td>...</td>\n",
       "    </tr>\n",
       "    <tr>\n",
       "      <th>993</th>\n",
       "      <td>#sxsw two parties down (Awesome Journalism, NP...</td>\n",
       "      <td>6</td>\n",
       "      <td>No emotion toward brand or product</td>\n",
       "      <td>[sxsw, two, parties, Awesome, Journalism, NPRG...</td>\n",
       "    </tr>\n",
       "    <tr>\n",
       "      <th>994</th>\n",
       "      <td>At google party. Best ever! Get your butt over...</td>\n",
       "      <td>3</td>\n",
       "      <td>Positive emotion</td>\n",
       "      <td>[At, google, party, Best, ever, Get, butt, sxsw]</td>\n",
       "    </tr>\n",
       "    <tr>\n",
       "      <th>995</th>\n",
       "      <td>Hey #sxsw peeps! Our new IPhone app ON #Voicef...</td>\n",
       "      <td>7</td>\n",
       "      <td>Positive emotion</td>\n",
       "      <td>[Hey, sxsw, peeps, Our, new, IPhone, app, ON, ...</td>\n",
       "    </tr>\n",
       "    <tr>\n",
       "      <th>996</th>\n",
       "      <td>Watch how people interact with information... ...</td>\n",
       "      <td>6</td>\n",
       "      <td>No emotion toward brand or product</td>\n",
       "      <td>[Watch, people, interact, information, differe...</td>\n",
       "    </tr>\n",
       "    <tr>\n",
       "      <th>997</th>\n",
       "      <td>Hey #sxsw people! Survival tip no 2. Great veg...</td>\n",
       "      <td>6</td>\n",
       "      <td>No emotion toward brand or product</td>\n",
       "      <td>[Hey, sxsw, people, Survival, tip, 2, Great, v...</td>\n",
       "    </tr>\n",
       "  </tbody>\n",
       "</table>\n",
       "<p>994 rows × 4 columns</p>\n",
       "</div>"
      ],
      "text/plain": [
       "                                            tweet_text  \\\n",
       "0    .@wesley83 I have a 3G iPhone. After 3 hrs twe...   \n",
       "1    @jessedee Know about @fludapp ? Awesome iPad/i...   \n",
       "2    @swonderlin Can not wait for #iPad 2 also. The...   \n",
       "3    @sxsw I hope this year's festival isn't as cra...   \n",
       "4    @sxtxstate great stuff on Fri #SXSW: Marissa M...   \n",
       "..                                                 ...   \n",
       "993  #sxsw two parties down (Awesome Journalism, NP...   \n",
       "994  At google party. Best ever! Get your butt over...   \n",
       "995  Hey #sxsw peeps! Our new IPhone app ON #Voicef...   \n",
       "996  Watch how people interact with information... ...   \n",
       "997  Hey #sxsw people! Survival tip no 2. Great veg...   \n",
       "\n",
       "     emotion_in_tweet_is_directed_at  \\\n",
       "0                                  8   \n",
       "1                                  7   \n",
       "2                                  6   \n",
       "3                                  7   \n",
       "4                                  3   \n",
       "..                               ...   \n",
       "993                                6   \n",
       "994                                3   \n",
       "995                                7   \n",
       "996                                6   \n",
       "997                                6   \n",
       "\n",
       "    is_there_an_emotion_directed_at_a_brand_or_product  \\\n",
       "0                                     Negative emotion   \n",
       "1                                     Positive emotion   \n",
       "2                                     Positive emotion   \n",
       "3                                     Negative emotion   \n",
       "4                                     Positive emotion   \n",
       "..                                                 ...   \n",
       "993                 No emotion toward brand or product   \n",
       "994                                   Positive emotion   \n",
       "995                                   Positive emotion   \n",
       "996                 No emotion toward brand or product   \n",
       "997                 No emotion toward brand or product   \n",
       "\n",
       "                                            clean_Text  \n",
       "0    [wesley83, I, 3G, iPhone, After, 3, hrs, tweet...  \n",
       "1    [jessedee, Know, fludapp, Awesome, iPadiPhone,...  \n",
       "2    [swonderlin, Can, wait, iPad, 2, also, They, s...  \n",
       "3    [sxsw, I, hope, years, festival, isnt, crashy,...  \n",
       "4    [sxtxstate, great, stuff, Fri, SXSW, Marissa, ...  \n",
       "..                                                 ...  \n",
       "993  [sxsw, two, parties, Awesome, Journalism, NPRG...  \n",
       "994   [At, google, party, Best, ever, Get, butt, sxsw]  \n",
       "995  [Hey, sxsw, peeps, Our, new, IPhone, app, ON, ...  \n",
       "996  [Watch, people, interact, information, differe...  \n",
       "997  [Hey, sxsw, people, Survival, tip, 2, Great, v...  \n",
       "\n",
       "[994 rows x 4 columns]"
      ]
     },
     "execution_count": 502,
     "metadata": {},
     "output_type": "execute_result"
    }
   ],
   "source": [
    "df"
   ]
  },
  {
   "cell_type": "code",
   "execution_count": 503,
   "metadata": {},
   "outputs": [],
   "source": [
    "#Label_encoder\n",
    "df['is_there_an_emotion_directed_at_a_brand_or_product']=LE.fit_transform(df.is_there_an_emotion_directed_at_a_brand_or_product)"
   ]
  },
  {
   "cell_type": "code",
   "execution_count": 504,
   "metadata": {},
   "outputs": [],
   "source": [
    "df.rename(columns={'emotion_in_tweet_is_directed_at':'emotion_in_tweet','is_there_an_emotion_directed_at_a_brand_or_product':'emotion_at_a_brand'},inplace=True) #rename column"
   ]
  },
  {
   "cell_type": "code",
   "execution_count": 505,
   "metadata": {},
   "outputs": [
    {
     "data": {
      "text/html": [
       "<div>\n",
       "<style scoped>\n",
       "    .dataframe tbody tr th:only-of-type {\n",
       "        vertical-align: middle;\n",
       "    }\n",
       "\n",
       "    .dataframe tbody tr th {\n",
       "        vertical-align: top;\n",
       "    }\n",
       "\n",
       "    .dataframe thead th {\n",
       "        text-align: right;\n",
       "    }\n",
       "</style>\n",
       "<table border=\"1\" class=\"dataframe\">\n",
       "  <thead>\n",
       "    <tr style=\"text-align: right;\">\n",
       "      <th></th>\n",
       "      <th>tweet_text</th>\n",
       "      <th>emotion_in_tweet</th>\n",
       "      <th>emotion_at_a_brand</th>\n",
       "      <th>clean_Text</th>\n",
       "    </tr>\n",
       "  </thead>\n",
       "  <tbody>\n",
       "    <tr>\n",
       "      <th>0</th>\n",
       "      <td>.@wesley83 I have a 3G iPhone. After 3 hrs twe...</td>\n",
       "      <td>8</td>\n",
       "      <td>1</td>\n",
       "      <td>[wesley83, I, 3G, iPhone, After, 3, hrs, tweet...</td>\n",
       "    </tr>\n",
       "    <tr>\n",
       "      <th>1</th>\n",
       "      <td>@jessedee Know about @fludapp ? Awesome iPad/i...</td>\n",
       "      <td>7</td>\n",
       "      <td>3</td>\n",
       "      <td>[jessedee, Know, fludapp, Awesome, iPadiPhone,...</td>\n",
       "    </tr>\n",
       "    <tr>\n",
       "      <th>2</th>\n",
       "      <td>@swonderlin Can not wait for #iPad 2 also. The...</td>\n",
       "      <td>6</td>\n",
       "      <td>3</td>\n",
       "      <td>[swonderlin, Can, wait, iPad, 2, also, They, s...</td>\n",
       "    </tr>\n",
       "    <tr>\n",
       "      <th>3</th>\n",
       "      <td>@sxsw I hope this year's festival isn't as cra...</td>\n",
       "      <td>7</td>\n",
       "      <td>1</td>\n",
       "      <td>[sxsw, I, hope, years, festival, isnt, crashy,...</td>\n",
       "    </tr>\n",
       "    <tr>\n",
       "      <th>4</th>\n",
       "      <td>@sxtxstate great stuff on Fri #SXSW: Marissa M...</td>\n",
       "      <td>3</td>\n",
       "      <td>3</td>\n",
       "      <td>[sxtxstate, great, stuff, Fri, SXSW, Marissa, ...</td>\n",
       "    </tr>\n",
       "    <tr>\n",
       "      <th>...</th>\n",
       "      <td>...</td>\n",
       "      <td>...</td>\n",
       "      <td>...</td>\n",
       "      <td>...</td>\n",
       "    </tr>\n",
       "    <tr>\n",
       "      <th>993</th>\n",
       "      <td>#sxsw two parties down (Awesome Journalism, NP...</td>\n",
       "      <td>6</td>\n",
       "      <td>2</td>\n",
       "      <td>[sxsw, two, parties, Awesome, Journalism, NPRG...</td>\n",
       "    </tr>\n",
       "    <tr>\n",
       "      <th>994</th>\n",
       "      <td>At google party. Best ever! Get your butt over...</td>\n",
       "      <td>3</td>\n",
       "      <td>3</td>\n",
       "      <td>[At, google, party, Best, ever, Get, butt, sxsw]</td>\n",
       "    </tr>\n",
       "    <tr>\n",
       "      <th>995</th>\n",
       "      <td>Hey #sxsw peeps! Our new IPhone app ON #Voicef...</td>\n",
       "      <td>7</td>\n",
       "      <td>3</td>\n",
       "      <td>[Hey, sxsw, peeps, Our, new, IPhone, app, ON, ...</td>\n",
       "    </tr>\n",
       "    <tr>\n",
       "      <th>996</th>\n",
       "      <td>Watch how people interact with information... ...</td>\n",
       "      <td>6</td>\n",
       "      <td>2</td>\n",
       "      <td>[Watch, people, interact, information, differe...</td>\n",
       "    </tr>\n",
       "    <tr>\n",
       "      <th>997</th>\n",
       "      <td>Hey #sxsw people! Survival tip no 2. Great veg...</td>\n",
       "      <td>6</td>\n",
       "      <td>2</td>\n",
       "      <td>[Hey, sxsw, people, Survival, tip, 2, Great, v...</td>\n",
       "    </tr>\n",
       "  </tbody>\n",
       "</table>\n",
       "<p>994 rows × 4 columns</p>\n",
       "</div>"
      ],
      "text/plain": [
       "                                            tweet_text  emotion_in_tweet  \\\n",
       "0    .@wesley83 I have a 3G iPhone. After 3 hrs twe...                 8   \n",
       "1    @jessedee Know about @fludapp ? Awesome iPad/i...                 7   \n",
       "2    @swonderlin Can not wait for #iPad 2 also. The...                 6   \n",
       "3    @sxsw I hope this year's festival isn't as cra...                 7   \n",
       "4    @sxtxstate great stuff on Fri #SXSW: Marissa M...                 3   \n",
       "..                                                 ...               ...   \n",
       "993  #sxsw two parties down (Awesome Journalism, NP...                 6   \n",
       "994  At google party. Best ever! Get your butt over...                 3   \n",
       "995  Hey #sxsw peeps! Our new IPhone app ON #Voicef...                 7   \n",
       "996  Watch how people interact with information... ...                 6   \n",
       "997  Hey #sxsw people! Survival tip no 2. Great veg...                 6   \n",
       "\n",
       "     emotion_at_a_brand                                         clean_Text  \n",
       "0                     1  [wesley83, I, 3G, iPhone, After, 3, hrs, tweet...  \n",
       "1                     3  [jessedee, Know, fludapp, Awesome, iPadiPhone,...  \n",
       "2                     3  [swonderlin, Can, wait, iPad, 2, also, They, s...  \n",
       "3                     1  [sxsw, I, hope, years, festival, isnt, crashy,...  \n",
       "4                     3  [sxtxstate, great, stuff, Fri, SXSW, Marissa, ...  \n",
       "..                  ...                                                ...  \n",
       "993                   2  [sxsw, two, parties, Awesome, Journalism, NPRG...  \n",
       "994                   3   [At, google, party, Best, ever, Get, butt, sxsw]  \n",
       "995                   3  [Hey, sxsw, peeps, Our, new, IPhone, app, ON, ...  \n",
       "996                   2  [Watch, people, interact, information, differe...  \n",
       "997                   2  [Hey, sxsw, people, Survival, tip, 2, Great, v...  \n",
       "\n",
       "[994 rows x 4 columns]"
      ]
     },
     "execution_count": 505,
     "metadata": {},
     "output_type": "execute_result"
    }
   ],
   "source": [
    "df"
   ]
  },
  {
   "cell_type": "code",
   "execution_count": 506,
   "metadata": {
    "colab": {
     "base_uri": "https://localhost:8080/"
    },
    "id": "g5D527JedwTs",
    "outputId": "93138fe5-4a47-4de5-f8cd-abd8346e1ad0",
    "scrolled": true
   },
   "outputs": [
    {
     "data": {
      "text/plain": [
       "0      [wesley83, I, 3G, iPhone, After, 3, hrs, tweet...\n",
       "1      [jessedee, Know, fludapp, Awesome, iPadiPhone,...\n",
       "2      [swonderlin, Can, wait, iPad, 2, also, They, s...\n",
       "3      [sxsw, I, hope, years, festival, isnt, crashy,...\n",
       "4      [sxtxstate, great, stuff, Fri, SXSW, Marissa, ...\n",
       "                             ...                        \n",
       "993    [sxsw, two, parties, Awesome, Journalism, NPRG...\n",
       "994     [At, google, party, Best, ever, Get, butt, sxsw]\n",
       "995    [Hey, sxsw, peeps, Our, new, IPhone, app, ON, ...\n",
       "996    [Watch, people, interact, information, differe...\n",
       "997    [Hey, sxsw, people, Survival, tip, 2, Great, v...\n",
       "Name: clean_Text, Length: 994, dtype: object"
      ]
     },
     "execution_count": 506,
     "metadata": {},
     "output_type": "execute_result"
    }
   ],
   "source": [
    "cleaned_Text=df['clean_Text']\n",
    "cleaned_Text"
   ]
  },
  {
   "cell_type": "markdown",
   "metadata": {},
   "source": [
    "## Model building"
   ]
  },
  {
   "cell_type": "code",
   "execution_count": 507,
   "metadata": {},
   "outputs": [
    {
     "data": {
      "text/plain": [
       "0      [wesley83, I, 3G, iPhone, After, 3, hrs, tweet...\n",
       "1      [jessedee, Know, fludapp, Awesome, iPadiPhone,...\n",
       "2      [swonderlin, Can, wait, iPad, 2, also, They, s...\n",
       "3      [sxsw, I, hope, years, festival, isnt, crashy,...\n",
       "4      [sxtxstate, great, stuff, Fri, SXSW, Marissa, ...\n",
       "                             ...                        \n",
       "993    [sxsw, two, parties, Awesome, Journalism, NPRG...\n",
       "994     [At, google, party, Best, ever, Get, butt, sxsw]\n",
       "995    [Hey, sxsw, peeps, Our, new, IPhone, app, ON, ...\n",
       "996    [Watch, people, interact, information, differe...\n",
       "997    [Hey, sxsw, people, Survival, tip, 2, Great, v...\n",
       "Name: clean_Text, Length: 994, dtype: object"
      ]
     },
     "execution_count": 507,
     "metadata": {},
     "output_type": "execute_result"
    }
   ],
   "source": [
    "x=df.clean_Text\n",
    "x"
   ]
  },
  {
   "cell_type": "code",
   "execution_count": 508,
   "metadata": {},
   "outputs": [
    {
     "data": {
      "text/plain": [
       "(994,)"
      ]
     },
     "execution_count": 508,
     "metadata": {},
     "output_type": "execute_result"
    }
   ],
   "source": [
    "y=df.emotion_at_a_brand\n",
    "y.shape"
   ]
  },
  {
   "cell_type": "code",
   "execution_count": 509,
   "metadata": {},
   "outputs": [
    {
     "data": {
      "text/plain": [
       "0      1\n",
       "1      3\n",
       "2      3\n",
       "3      1\n",
       "4      3\n",
       "      ..\n",
       "993    2\n",
       "994    3\n",
       "995    3\n",
       "996    2\n",
       "997    2\n",
       "Name: emotion_at_a_brand, Length: 994, dtype: int32"
      ]
     },
     "execution_count": 509,
     "metadata": {},
     "output_type": "execute_result"
    }
   ],
   "source": [
    "y=df.emotion_at_a_brand\n",
    "y"
   ]
  },
  {
   "cell_type": "code",
   "execution_count": 510,
   "metadata": {},
   "outputs": [
    {
     "data": {
      "text/plain": [
       "(994,)"
      ]
     },
     "execution_count": 510,
     "metadata": {},
     "output_type": "execute_result"
    }
   ],
   "source": [
    "x.shape"
   ]
  },
  {
   "cell_type": "code",
   "execution_count": 511,
   "metadata": {},
   "outputs": [
    {
     "data": {
      "text/plain": [
       "(994,)"
      ]
     },
     "execution_count": 511,
     "metadata": {},
     "output_type": "execute_result"
    }
   ],
   "source": [
    "x.shape"
   ]
  },
  {
   "cell_type": "code",
   "execution_count": 512,
   "metadata": {},
   "outputs": [
    {
     "data": {
      "text/plain": [
       "(994,)"
      ]
     },
     "execution_count": 512,
     "metadata": {},
     "output_type": "execute_result"
    }
   ],
   "source": [
    "y.shape"
   ]
  },
  {
   "cell_type": "code",
   "execution_count": 513,
   "metadata": {},
   "outputs": [],
   "source": [
    "#split data\n",
    "from sklearn.model_selection import train_test_split\n",
    "x_train,x_test,y_train,y_test=train_test_split(x,y,test_size=0.25,random_state=42)"
   ]
  },
  {
   "cell_type": "code",
   "execution_count": 514,
   "metadata": {},
   "outputs": [],
   "source": [
    "#tf-idf vectorization\n",
    "from sklearn.feature_extraction.text import TfidfVectorizer\n",
    "vectorization = TfidfVectorizer()"
   ]
  },
  {
   "cell_type": "code",
   "execution_count": 515,
   "metadata": {},
   "outputs": [],
   "source": [
    "#chain for list iteration\n",
    "from itertools import chain\n",
    "tokenized_list = list(chain(*x_train))\n",
    "x_train_trans=vectorization.fit_transform(tokenized_list).todense()\n"
   ]
  },
  {
   "cell_type": "code",
   "execution_count": 516,
   "metadata": {},
   "outputs": [],
   "source": [
    "tokenized_list1 = list(chain(*x_test))\n",
    "x_test_trans=vectorization.fit_transform(tokenized_list1).todense()"
   ]
  },
  {
   "cell_type": "code",
   "execution_count": 517,
   "metadata": {},
   "outputs": [
    {
     "data": {
      "text/plain": [
       "matrix([[0., 0., 0., ..., 0., 0., 0.],\n",
       "        [0., 0., 0., ..., 0., 0., 0.],\n",
       "        [0., 0., 0., ..., 0., 0., 0.],\n",
       "        ...,\n",
       "        [0., 0., 0., ..., 0., 0., 0.],\n",
       "        [0., 0., 0., ..., 0., 0., 0.],\n",
       "        [0., 0., 0., ..., 0., 0., 0.]])"
      ]
     },
     "execution_count": 517,
     "metadata": {},
     "output_type": "execute_result"
    }
   ],
   "source": [
    "x_test_trans"
   ]
  },
  {
   "cell_type": "code",
   "execution_count": 518,
   "metadata": {},
   "outputs": [
    {
     "data": {
      "text/plain": [
       "(745, 2490)"
      ]
     },
     "execution_count": 518,
     "metadata": {},
     "output_type": "execute_result"
    }
   ],
   "source": [
    "#convert matrix to array\n",
    "import numpy as np\n",
    "x_train_trans_ = np.array(x_train_trans[:745])\n",
    "x_train_trans_.shape"
   ]
  },
  {
   "cell_type": "code",
   "execution_count": 519,
   "metadata": {},
   "outputs": [
    {
     "data": {
      "text/plain": [
       "array([[0., 0., 0., ..., 0., 0., 0.],\n",
       "       [0., 0., 0., ..., 0., 0., 0.],\n",
       "       [0., 0., 0., ..., 0., 0., 0.],\n",
       "       ...,\n",
       "       [0., 0., 0., ..., 0., 0., 0.],\n",
       "       [0., 0., 0., ..., 0., 0., 0.],\n",
       "       [0., 0., 0., ..., 0., 0., 0.]])"
      ]
     },
     "execution_count": 519,
     "metadata": {},
     "output_type": "execute_result"
    }
   ],
   "source": [
    "x_test_trans_ = np.array(x_test_trans)\n",
    "x_test_trans_"
   ]
  },
  {
   "cell_type": "code",
   "execution_count": 520,
   "metadata": {},
   "outputs": [
    {
     "data": {
      "text/plain": [
       "MultinomialNB()"
      ]
     },
     "execution_count": 520,
     "metadata": {},
     "output_type": "execute_result"
    }
   ],
   "source": [
    "from sklearn.naive_bayes import MultinomialNB\n",
    "Mlb=MultinomialNB()\n",
    "Mlb.fit(x_train_trans_,y_train)"
   ]
  },
  {
   "cell_type": "code",
   "execution_count": 530,
   "metadata": {},
   "outputs": [
    {
     "data": {
      "text/plain": [
       "(3176, 1167)"
      ]
     },
     "execution_count": 530,
     "metadata": {},
     "output_type": "execute_result"
    }
   ],
   "source": [
    "x_test_trans_.shape"
   ]
  },
  {
   "cell_type": "code",
   "execution_count": 531,
   "metadata": {},
   "outputs": [
    {
     "data": {
      "text/plain": [
       "0.723489932885906"
      ]
     },
     "execution_count": 531,
     "metadata": {},
     "output_type": "execute_result"
    }
   ],
   "source": [
    "from sklearn.metrics import accuracy_score\n",
    "Mlb.score(x_train_trans_,y_train)"
   ]
  },
  {
   "cell_type": "code",
   "execution_count": 522,
   "metadata": {},
   "outputs": [
    {
     "ename": "ValueError",
     "evalue": "X has 1167 features, but MultinomialNB is expecting 2490 features as input.",
     "output_type": "error",
     "traceback": [
      "\u001b[1;31m---------------------------------------------------------------------------\u001b[0m",
      "\u001b[1;31mValueError\u001b[0m                                Traceback (most recent call last)",
      "\u001b[1;32m<ipython-input-522-41e109084cf4>\u001b[0m in \u001b[0;36m<module>\u001b[1;34m\u001b[0m\n\u001b[1;32m----> 1\u001b[1;33m \u001b[0my_test_pred\u001b[0m\u001b[1;33m=\u001b[0m\u001b[0mMlb\u001b[0m\u001b[1;33m.\u001b[0m\u001b[0mpredict\u001b[0m\u001b[1;33m(\u001b[0m\u001b[0mx_test_trans_\u001b[0m\u001b[1;33m)\u001b[0m\u001b[1;33m\u001b[0m\u001b[1;33m\u001b[0m\u001b[0m\n\u001b[0m",
      "\u001b[1;32m~\\anaconda3\\lib\\site-packages\\sklearn\\naive_bayes.py\u001b[0m in \u001b[0;36mpredict\u001b[1;34m(self, X)\u001b[0m\n\u001b[0;32m     80\u001b[0m         \"\"\"\n\u001b[0;32m     81\u001b[0m         \u001b[0mcheck_is_fitted\u001b[0m\u001b[1;33m(\u001b[0m\u001b[0mself\u001b[0m\u001b[1;33m)\u001b[0m\u001b[1;33m\u001b[0m\u001b[1;33m\u001b[0m\u001b[0m\n\u001b[1;32m---> 82\u001b[1;33m         \u001b[0mX\u001b[0m \u001b[1;33m=\u001b[0m \u001b[0mself\u001b[0m\u001b[1;33m.\u001b[0m\u001b[0m_check_X\u001b[0m\u001b[1;33m(\u001b[0m\u001b[0mX\u001b[0m\u001b[1;33m)\u001b[0m\u001b[1;33m\u001b[0m\u001b[1;33m\u001b[0m\u001b[0m\n\u001b[0m\u001b[0;32m     83\u001b[0m         \u001b[0mjll\u001b[0m \u001b[1;33m=\u001b[0m \u001b[0mself\u001b[0m\u001b[1;33m.\u001b[0m\u001b[0m_joint_log_likelihood\u001b[0m\u001b[1;33m(\u001b[0m\u001b[0mX\u001b[0m\u001b[1;33m)\u001b[0m\u001b[1;33m\u001b[0m\u001b[1;33m\u001b[0m\u001b[0m\n\u001b[0;32m     84\u001b[0m         \u001b[1;32mreturn\u001b[0m \u001b[0mself\u001b[0m\u001b[1;33m.\u001b[0m\u001b[0mclasses_\u001b[0m\u001b[1;33m[\u001b[0m\u001b[0mnp\u001b[0m\u001b[1;33m.\u001b[0m\u001b[0margmax\u001b[0m\u001b[1;33m(\u001b[0m\u001b[0mjll\u001b[0m\u001b[1;33m,\u001b[0m \u001b[0maxis\u001b[0m\u001b[1;33m=\u001b[0m\u001b[1;36m1\u001b[0m\u001b[1;33m)\u001b[0m\u001b[1;33m]\u001b[0m\u001b[1;33m\u001b[0m\u001b[1;33m\u001b[0m\u001b[0m\n",
      "\u001b[1;32m~\\anaconda3\\lib\\site-packages\\sklearn\\naive_bayes.py\u001b[0m in \u001b[0;36m_check_X\u001b[1;34m(self, X)\u001b[0m\n\u001b[0;32m    517\u001b[0m     \u001b[1;32mdef\u001b[0m \u001b[0m_check_X\u001b[0m\u001b[1;33m(\u001b[0m\u001b[0mself\u001b[0m\u001b[1;33m,\u001b[0m \u001b[0mX\u001b[0m\u001b[1;33m)\u001b[0m\u001b[1;33m:\u001b[0m\u001b[1;33m\u001b[0m\u001b[1;33m\u001b[0m\u001b[0m\n\u001b[0;32m    518\u001b[0m         \u001b[1;34m\"\"\"Validate X, used only in predict* methods.\"\"\"\u001b[0m\u001b[1;33m\u001b[0m\u001b[1;33m\u001b[0m\u001b[0m\n\u001b[1;32m--> 519\u001b[1;33m         \u001b[1;32mreturn\u001b[0m \u001b[0mself\u001b[0m\u001b[1;33m.\u001b[0m\u001b[0m_validate_data\u001b[0m\u001b[1;33m(\u001b[0m\u001b[0mX\u001b[0m\u001b[1;33m,\u001b[0m \u001b[0maccept_sparse\u001b[0m\u001b[1;33m=\u001b[0m\u001b[1;34m\"csr\"\u001b[0m\u001b[1;33m,\u001b[0m \u001b[0mreset\u001b[0m\u001b[1;33m=\u001b[0m\u001b[1;32mFalse\u001b[0m\u001b[1;33m)\u001b[0m\u001b[1;33m\u001b[0m\u001b[1;33m\u001b[0m\u001b[0m\n\u001b[0m\u001b[0;32m    520\u001b[0m \u001b[1;33m\u001b[0m\u001b[0m\n\u001b[0;32m    521\u001b[0m     \u001b[1;32mdef\u001b[0m \u001b[0m_check_X_y\u001b[0m\u001b[1;33m(\u001b[0m\u001b[0mself\u001b[0m\u001b[1;33m,\u001b[0m \u001b[0mX\u001b[0m\u001b[1;33m,\u001b[0m \u001b[0my\u001b[0m\u001b[1;33m,\u001b[0m \u001b[0mreset\u001b[0m\u001b[1;33m=\u001b[0m\u001b[1;32mTrue\u001b[0m\u001b[1;33m)\u001b[0m\u001b[1;33m:\u001b[0m\u001b[1;33m\u001b[0m\u001b[1;33m\u001b[0m\u001b[0m\n",
      "\u001b[1;32m~\\anaconda3\\lib\\site-packages\\sklearn\\base.py\u001b[0m in \u001b[0;36m_validate_data\u001b[1;34m(self, X, y, reset, validate_separately, **check_params)\u001b[0m\n\u001b[0;32m    583\u001b[0m \u001b[1;33m\u001b[0m\u001b[0m\n\u001b[0;32m    584\u001b[0m         \u001b[1;32mif\u001b[0m \u001b[1;32mnot\u001b[0m \u001b[0mno_val_X\u001b[0m \u001b[1;32mand\u001b[0m \u001b[0mcheck_params\u001b[0m\u001b[1;33m.\u001b[0m\u001b[0mget\u001b[0m\u001b[1;33m(\u001b[0m\u001b[1;34m\"ensure_2d\"\u001b[0m\u001b[1;33m,\u001b[0m \u001b[1;32mTrue\u001b[0m\u001b[1;33m)\u001b[0m\u001b[1;33m:\u001b[0m\u001b[1;33m\u001b[0m\u001b[1;33m\u001b[0m\u001b[0m\n\u001b[1;32m--> 585\u001b[1;33m             \u001b[0mself\u001b[0m\u001b[1;33m.\u001b[0m\u001b[0m_check_n_features\u001b[0m\u001b[1;33m(\u001b[0m\u001b[0mX\u001b[0m\u001b[1;33m,\u001b[0m \u001b[0mreset\u001b[0m\u001b[1;33m=\u001b[0m\u001b[0mreset\u001b[0m\u001b[1;33m)\u001b[0m\u001b[1;33m\u001b[0m\u001b[1;33m\u001b[0m\u001b[0m\n\u001b[0m\u001b[0;32m    586\u001b[0m \u001b[1;33m\u001b[0m\u001b[0m\n\u001b[0;32m    587\u001b[0m         \u001b[1;32mreturn\u001b[0m \u001b[0mout\u001b[0m\u001b[1;33m\u001b[0m\u001b[1;33m\u001b[0m\u001b[0m\n",
      "\u001b[1;32m~\\anaconda3\\lib\\site-packages\\sklearn\\base.py\u001b[0m in \u001b[0;36m_check_n_features\u001b[1;34m(self, X, reset)\u001b[0m\n\u001b[0;32m    398\u001b[0m \u001b[1;33m\u001b[0m\u001b[0m\n\u001b[0;32m    399\u001b[0m         \u001b[1;32mif\u001b[0m \u001b[0mn_features\u001b[0m \u001b[1;33m!=\u001b[0m \u001b[0mself\u001b[0m\u001b[1;33m.\u001b[0m\u001b[0mn_features_in_\u001b[0m\u001b[1;33m:\u001b[0m\u001b[1;33m\u001b[0m\u001b[1;33m\u001b[0m\u001b[0m\n\u001b[1;32m--> 400\u001b[1;33m             raise ValueError(\n\u001b[0m\u001b[0;32m    401\u001b[0m                 \u001b[1;34mf\"X has {n_features} features, but {self.__class__.__name__} \"\u001b[0m\u001b[1;33m\u001b[0m\u001b[1;33m\u001b[0m\u001b[0m\n\u001b[0;32m    402\u001b[0m                 \u001b[1;34mf\"is expecting {self.n_features_in_} features as input.\"\u001b[0m\u001b[1;33m\u001b[0m\u001b[1;33m\u001b[0m\u001b[0m\n",
      "\u001b[1;31mValueError\u001b[0m: X has 1167 features, but MultinomialNB is expecting 2490 features as input."
     ]
    }
   ],
   "source": [
    "y_test_pred=Mlb.predict(x_test_trans_)\n"
   ]
  },
  {
   "cell_type": "code",
   "execution_count": null,
   "metadata": {},
   "outputs": [],
   "source": []
  }
 ],
 "metadata": {
  "colab": {
   "collapsed_sections": [],
   "name": "Fakenews_detection.ipynb",
   "provenance": []
  },
  "kernelspec": {
   "display_name": "Python 3",
   "language": "python",
   "name": "python3"
  },
  "language_info": {
   "codemirror_mode": {
    "name": "ipython",
    "version": 3
   },
   "file_extension": ".py",
   "mimetype": "text/x-python",
   "name": "python",
   "nbconvert_exporter": "python",
   "pygments_lexer": "ipython3",
   "version": "3.8.5"
  }
 },
 "nbformat": 4,
 "nbformat_minor": 1
}
